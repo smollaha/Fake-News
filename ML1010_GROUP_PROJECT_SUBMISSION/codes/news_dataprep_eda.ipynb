{
 "cells": [
  {
   "cell_type": "markdown",
   "metadata": {
    "_cell_guid": "b1076dfc-b9ad-4769-8c92-a6c4dae69d19",
    "_uuid": "8f2839f25d086af736a60e9eeb907d3b93b6e0e5"
   },
   "source": [
    "# Project: Fake News Detection Through Natural Language Processing\n",
    "\n",
    "## ML1010 - Group JSMCJ - Project Proposal\n",
    "\n"
   ]
  },
  {
   "cell_type": "markdown",
   "metadata": {},
   "source": [
    "\n"
   ]
  },
  {
   "cell_type": "markdown",
   "metadata": {},
   "source": [
    "# 1. Data preparation"
   ]
  },
  {
   "cell_type": "markdown",
   "metadata": {},
   "source": [
    "### Import libraries and data"
   ]
  },
  {
   "cell_type": "code",
   "execution_count": 1,
   "metadata": {},
   "outputs": [],
   "source": [
    "import numpy as np # linear algebra\n",
    "import pandas as pd # data processing, CSV file I/O (e.g. pd.read_csv)\n",
    "\n",
    "import os"
   ]
  },
  {
   "cell_type": "markdown",
   "metadata": {},
   "source": [
    "## Real News dataset preparation"
   ]
  },
  {
   "cell_type": "markdown",
   "metadata": {},
   "source": [
    "Source: https://www.kaggle.com/snapcrack/all-the-news"
   ]
  },
  {
   "cell_type": "code",
   "execution_count": 3,
   "metadata": {
    "_cell_guid": "79c7e3d0-c299-4dcb-8224-4455121ee9b0",
    "_uuid": "d629ff2d2480ee46fbb7e2d37f6b5fab8052498a"
   },
   "outputs": [],
   "source": [
    "# Reading data from the csv files\n",
    "df1 = pd.read_csv(\"../data/articles1.csv\")\n",
    "df2 = pd.read_csv(\"../data/articles2.csv\")\n",
    "df3 = pd.read_csv(\"../data/articles3.csv\")"
   ]
  },
  {
   "cell_type": "markdown",
   "metadata": {
    "_uuid": "99b647dc2aa9a250538ba5fc4f63deb43c96730c"
   },
   "source": [
    "We have a dataset of fake news collected in November 2016 (source: https://www.kaggle.com/mrisdal/fake-news/home). For our dataset of real news, we want to collect news articles that were published from October to December of 2016. That gives us ample data points we can use to build classification models."
   ]
  },
  {
   "cell_type": "code",
   "execution_count": 4,
   "metadata": {
    "_uuid": "87ba5d6956c7adbe47577cf49463716e6bdb9416"
   },
   "outputs": [
    {
     "data": {
      "text/html": [
       "<div>\n",
       "<style scoped>\n",
       "    .dataframe tbody tr th:only-of-type {\n",
       "        vertical-align: middle;\n",
       "    }\n",
       "\n",
       "    .dataframe tbody tr th {\n",
       "        vertical-align: top;\n",
       "    }\n",
       "\n",
       "    .dataframe thead th {\n",
       "        text-align: right;\n",
       "    }\n",
       "</style>\n",
       "<table border=\"1\" class=\"dataframe\">\n",
       "  <thead>\n",
       "    <tr style=\"text-align: right;\">\n",
       "      <th></th>\n",
       "      <th>Unnamed: 0</th>\n",
       "      <th>id</th>\n",
       "      <th>title</th>\n",
       "      <th>publication</th>\n",
       "      <th>author</th>\n",
       "      <th>date</th>\n",
       "      <th>year</th>\n",
       "      <th>month</th>\n",
       "      <th>url</th>\n",
       "      <th>content</th>\n",
       "    </tr>\n",
       "  </thead>\n",
       "  <tbody>\n",
       "    <tr>\n",
       "      <th>0</th>\n",
       "      <td>0</td>\n",
       "      <td>17283</td>\n",
       "      <td>House Republicans Fret About Winning Their Hea...</td>\n",
       "      <td>New York Times</td>\n",
       "      <td>Carl Hulse</td>\n",
       "      <td>2016-12-31</td>\n",
       "      <td>2016.0</td>\n",
       "      <td>12.0</td>\n",
       "      <td>NaN</td>\n",
       "      <td>WASHINGTON  —   Congressional Republicans have...</td>\n",
       "    </tr>\n",
       "    <tr>\n",
       "      <th>8</th>\n",
       "      <td>8</td>\n",
       "      <td>17291</td>\n",
       "      <td>First, a Mixtape. Then a Romance. - The New Yo...</td>\n",
       "      <td>New York Times</td>\n",
       "      <td>Katherine Rosman</td>\n",
       "      <td>2016-12-31</td>\n",
       "      <td>2016.0</td>\n",
       "      <td>12.0</td>\n",
       "      <td>NaN</td>\n",
       "      <td>Just how   is Hillary Kerr, the    founder of ...</td>\n",
       "    </tr>\n",
       "    <tr>\n",
       "      <th>9</th>\n",
       "      <td>9</td>\n",
       "      <td>17292</td>\n",
       "      <td>Calling on Angels While Enduring the Trials of...</td>\n",
       "      <td>New York Times</td>\n",
       "      <td>Andy Newman</td>\n",
       "      <td>2016-12-31</td>\n",
       "      <td>2016.0</td>\n",
       "      <td>12.0</td>\n",
       "      <td>NaN</td>\n",
       "      <td>Angels are everywhere in the Muñiz family’s ap...</td>\n",
       "    </tr>\n",
       "    <tr>\n",
       "      <th>2547</th>\n",
       "      <td>2547</td>\n",
       "      <td>20127</td>\n",
       "      <td>U.S. Plans to Step Up Military Campaign Agains...</td>\n",
       "      <td>New York Times</td>\n",
       "      <td>Michael S. Schmidt and Eric Schmitt</td>\n",
       "      <td>2016-12-21</td>\n",
       "      <td>2016.0</td>\n",
       "      <td>12.0</td>\n",
       "      <td>NaN</td>\n",
       "      <td>ABU DHABI, United Arab Emirates  —   The Obama...</td>\n",
       "    </tr>\n",
       "  </tbody>\n",
       "</table>\n",
       "</div>"
      ],
      "text/plain": [
       "      Unnamed: 0     id                                              title  \\\n",
       "0              0  17283  House Republicans Fret About Winning Their Hea...   \n",
       "8              8  17291  First, a Mixtape. Then a Romance. - The New Yo...   \n",
       "9              9  17292  Calling on Angels While Enduring the Trials of...   \n",
       "2547        2547  20127  U.S. Plans to Step Up Military Campaign Agains...   \n",
       "\n",
       "         publication                               author        date    year  \\\n",
       "0     New York Times                           Carl Hulse  2016-12-31  2016.0   \n",
       "8     New York Times                     Katherine Rosman  2016-12-31  2016.0   \n",
       "9     New York Times                          Andy Newman  2016-12-31  2016.0   \n",
       "2547  New York Times  Michael S. Schmidt and Eric Schmitt  2016-12-21  2016.0   \n",
       "\n",
       "      month  url                                            content  \n",
       "0      12.0  NaN  WASHINGTON  —   Congressional Republicans have...  \n",
       "8      12.0  NaN  Just how   is Hillary Kerr, the    founder of ...  \n",
       "9      12.0  NaN  Angels are everywhere in the Muñiz family’s ap...  \n",
       "2547   12.0  NaN  ABU DHABI, United Arab Emirates  —   The Obama...  "
      ]
     },
     "execution_count": 4,
     "metadata": {},
     "output_type": "execute_result"
    }
   ],
   "source": [
    "# Sollecting news articles that were published from October to December of 2016\n",
    "df1 = df1.loc[df1['year'] == 2016.0]\n",
    "df1 = df1.loc[df1['month'].isin([10.0,11.0,12.0])]\n",
    "df1.head(4)"
   ]
  },
  {
   "cell_type": "code",
   "execution_count": 5,
   "metadata": {
    "_uuid": "be69de78b8e1172c1d4255ad330a34639d9532ad"
   },
   "outputs": [
    {
     "data": {
      "text/html": [
       "<div>\n",
       "<style scoped>\n",
       "    .dataframe tbody tr th:only-of-type {\n",
       "        vertical-align: middle;\n",
       "    }\n",
       "\n",
       "    .dataframe tbody tr th {\n",
       "        vertical-align: top;\n",
       "    }\n",
       "\n",
       "    .dataframe thead th {\n",
       "        text-align: right;\n",
       "    }\n",
       "</style>\n",
       "<table border=\"1\" class=\"dataframe\">\n",
       "  <thead>\n",
       "    <tr style=\"text-align: right;\">\n",
       "      <th></th>\n",
       "      <th>Unnamed: 0</th>\n",
       "      <th>id</th>\n",
       "      <th>title</th>\n",
       "      <th>publication</th>\n",
       "      <th>author</th>\n",
       "      <th>date</th>\n",
       "      <th>year</th>\n",
       "      <th>month</th>\n",
       "      <th>url</th>\n",
       "      <th>content</th>\n",
       "    </tr>\n",
       "  </thead>\n",
       "  <tbody>\n",
       "    <tr>\n",
       "      <th>3654</th>\n",
       "      <td>56963</td>\n",
       "      <td>78255</td>\n",
       "      <td>Trump Time Capsule #124: Taxes</td>\n",
       "      <td>Atlantic</td>\n",
       "      <td>James Fallows</td>\n",
       "      <td>2016-10-02</td>\n",
       "      <td>2016.0</td>\n",
       "      <td>10.0</td>\n",
       "      <td>NaN</td>\n",
       "      <td>People will look back on this era in our histo...</td>\n",
       "    </tr>\n",
       "    <tr>\n",
       "      <th>3655</th>\n",
       "      <td>56964</td>\n",
       "      <td>78256</td>\n",
       "      <td>What Do You Know ... About Human Organs?</td>\n",
       "      <td>Atlantic</td>\n",
       "      <td>Rosa Inocencio Smith</td>\n",
       "      <td>2016-10-01</td>\n",
       "      <td>2016.0</td>\n",
       "      <td>10.0</td>\n",
       "      <td>NaN</td>\n",
       "      <td>Each week, we collect the most surprising fact...</td>\n",
       "    </tr>\n",
       "    <tr>\n",
       "      <th>3656</th>\n",
       "      <td>56965</td>\n",
       "      <td>78259</td>\n",
       "      <td>Track of the Day: ’Mary’s Song’ by Nick Cave</td>\n",
       "      <td>Atlantic</td>\n",
       "      <td>Chris Bodenner</td>\n",
       "      <td>2016-10-02</td>\n",
       "      <td>2016.0</td>\n",
       "      <td>10.0</td>\n",
       "      <td>NaN</td>\n",
       "      <td>An ongoing collection from readers of the song...</td>\n",
       "    </tr>\n",
       "    <tr>\n",
       "      <th>3657</th>\n",
       "      <td>56966</td>\n",
       "      <td>78260</td>\n",
       "      <td>Track of the Day: ’Baba O’Riley’ by The Who</td>\n",
       "      <td>Atlantic</td>\n",
       "      <td>Chris Bodenner</td>\n",
       "      <td>2016-10-01</td>\n",
       "      <td>2016.0</td>\n",
       "      <td>10.0</td>\n",
       "      <td>NaN</td>\n",
       "      <td>, A   reader, Tim, floats an idea: Inspired by...</td>\n",
       "    </tr>\n",
       "  </tbody>\n",
       "</table>\n",
       "</div>"
      ],
      "text/plain": [
       "      Unnamed: 0     id                                         title  \\\n",
       "3654       56963  78255                Trump Time Capsule #124: Taxes   \n",
       "3655       56964  78256      What Do You Know ... About Human Organs?   \n",
       "3656       56965  78259  Track of the Day: ’Mary’s Song’ by Nick Cave   \n",
       "3657       56966  78260   Track of the Day: ’Baba O’Riley’ by The Who   \n",
       "\n",
       "     publication                author        date    year  month  url  \\\n",
       "3654    Atlantic         James Fallows  2016-10-02  2016.0   10.0  NaN   \n",
       "3655    Atlantic  Rosa Inocencio Smith  2016-10-01  2016.0   10.0  NaN   \n",
       "3656    Atlantic        Chris Bodenner  2016-10-02  2016.0   10.0  NaN   \n",
       "3657    Atlantic        Chris Bodenner  2016-10-01  2016.0   10.0  NaN   \n",
       "\n",
       "                                                content  \n",
       "3654  People will look back on this era in our histo...  \n",
       "3655  Each week, we collect the most surprising fact...  \n",
       "3656  An ongoing collection from readers of the song...  \n",
       "3657  , A   reader, Tim, floats an idea: Inspired by...  "
      ]
     },
     "execution_count": 5,
     "metadata": {},
     "output_type": "execute_result"
    }
   ],
   "source": [
    "# Sollecting news articles that were published from October to December of 2016\n",
    "df2 = df2.loc[df2['year'] == 2016.0]\n",
    "df2 = df2.loc[df2['month'].isin([10.0,11.0,12.0])]\n",
    "df2.head(4)"
   ]
  },
  {
   "cell_type": "code",
   "execution_count": 6,
   "metadata": {
    "_uuid": "9440a75cbd1d27aa44dc687db692db147c90aa63",
    "scrolled": true
   },
   "outputs": [
    {
     "data": {
      "text/html": [
       "<div>\n",
       "<style scoped>\n",
       "    .dataframe tbody tr th:only-of-type {\n",
       "        vertical-align: middle;\n",
       "    }\n",
       "\n",
       "    .dataframe tbody tr th {\n",
       "        vertical-align: top;\n",
       "    }\n",
       "\n",
       "    .dataframe thead th {\n",
       "        text-align: right;\n",
       "    }\n",
       "</style>\n",
       "<table border=\"1\" class=\"dataframe\">\n",
       "  <thead>\n",
       "    <tr style=\"text-align: right;\">\n",
       "      <th></th>\n",
       "      <th>Unnamed: 0</th>\n",
       "      <th>id</th>\n",
       "      <th>title</th>\n",
       "      <th>publication</th>\n",
       "      <th>author</th>\n",
       "      <th>date</th>\n",
       "      <th>year</th>\n",
       "      <th>month</th>\n",
       "      <th>url</th>\n",
       "      <th>content</th>\n",
       "    </tr>\n",
       "  </thead>\n",
       "  <tbody>\n",
       "    <tr>\n",
       "      <th>2</th>\n",
       "      <td>103461</td>\n",
       "      <td>151910</td>\n",
       "      <td>My grandmother’s death saved me from a life of...</td>\n",
       "      <td>Guardian</td>\n",
       "      <td>Robert Pendry</td>\n",
       "      <td>2016-10-31</td>\n",
       "      <td>2016.0</td>\n",
       "      <td>10.0</td>\n",
       "      <td>https://www.theguardian.com/commentisfree/2016...</td>\n",
       "      <td>Debt: $20, 000, Source: College, credit cards,...</td>\n",
       "    </tr>\n",
       "    <tr>\n",
       "      <th>3</th>\n",
       "      <td>103462</td>\n",
       "      <td>151911</td>\n",
       "      <td>I feared my life lacked meaning. Cancer pushed...</td>\n",
       "      <td>Guardian</td>\n",
       "      <td>Bradford Frost</td>\n",
       "      <td>2016-11-26</td>\n",
       "      <td>2016.0</td>\n",
       "      <td>11.0</td>\n",
       "      <td>https://www.theguardian.com/commentisfree/2016...</td>\n",
       "      <td>It was late. I was drunk, nearing my 35th birt...</td>\n",
       "    </tr>\n",
       "    <tr>\n",
       "      <th>5</th>\n",
       "      <td>103464</td>\n",
       "      <td>151914</td>\n",
       "      <td>My dad’s Reagan protests inspire me to stand u...</td>\n",
       "      <td>Guardian</td>\n",
       "      <td>Steven W Thrasher</td>\n",
       "      <td>2016-11-28</td>\n",
       "      <td>2016.0</td>\n",
       "      <td>11.0</td>\n",
       "      <td>https://www.theguardian.com/commentisfree/2016...</td>\n",
       "      <td>I have been battling depression and sleeplessn...</td>\n",
       "    </tr>\n",
       "    <tr>\n",
       "      <th>8</th>\n",
       "      <td>103467</td>\n",
       "      <td>151917</td>\n",
       "      <td>NSA contractor arrested for alleged theft of t...</td>\n",
       "      <td>Guardian</td>\n",
       "      <td>Ewen MacAskill</td>\n",
       "      <td>2016-10-05</td>\n",
       "      <td>2016.0</td>\n",
       "      <td>10.0</td>\n",
       "      <td>https://www.theguardian.com/us-news/2016/oct/0...</td>\n",
       "      <td>The FBI has arrested a National Security Agenc...</td>\n",
       "    </tr>\n",
       "  </tbody>\n",
       "</table>\n",
       "</div>"
      ],
      "text/plain": [
       "   Unnamed: 0      id                                              title  \\\n",
       "2      103461  151910  My grandmother’s death saved me from a life of...   \n",
       "3      103462  151911  I feared my life lacked meaning. Cancer pushed...   \n",
       "5      103464  151914  My dad’s Reagan protests inspire me to stand u...   \n",
       "8      103467  151917  NSA contractor arrested for alleged theft of t...   \n",
       "\n",
       "  publication             author        date    year  month  \\\n",
       "2    Guardian      Robert Pendry  2016-10-31  2016.0   10.0   \n",
       "3    Guardian     Bradford Frost  2016-11-26  2016.0   11.0   \n",
       "5    Guardian  Steven W Thrasher  2016-11-28  2016.0   11.0   \n",
       "8    Guardian     Ewen MacAskill  2016-10-05  2016.0   10.0   \n",
       "\n",
       "                                                 url  \\\n",
       "2  https://www.theguardian.com/commentisfree/2016...   \n",
       "3  https://www.theguardian.com/commentisfree/2016...   \n",
       "5  https://www.theguardian.com/commentisfree/2016...   \n",
       "8  https://www.theguardian.com/us-news/2016/oct/0...   \n",
       "\n",
       "                                             content  \n",
       "2  Debt: $20, 000, Source: College, credit cards,...  \n",
       "3  It was late. I was drunk, nearing my 35th birt...  \n",
       "5  I have been battling depression and sleeplessn...  \n",
       "8  The FBI has arrested a National Security Agenc...  "
      ]
     },
     "execution_count": 6,
     "metadata": {},
     "output_type": "execute_result"
    }
   ],
   "source": [
    "# Sollecting news articles that were published from October to December of 2016\n",
    "df3 = df3.loc[df3['year'] == 2016.0]\n",
    "df3 = df3.loc[df3['month'].isin([10.0,11.0,12.0])]\n",
    "df3.head(4)"
   ]
  },
  {
   "cell_type": "markdown",
   "metadata": {
    "_uuid": "6d0917254d579fb6c4c76ce1fdf197639b0f3608"
   },
   "source": [
    "Now we want to examine the various publications in each csv file."
   ]
  },
  {
   "cell_type": "code",
   "execution_count": 7,
   "metadata": {
    "_uuid": "ce1d9c235d3e5943d74f3e45c4178d72fd9a62ab",
    "scrolled": true
   },
   "outputs": [
    {
     "name": "stdout",
     "output_type": "stream",
     "text": [
      "['Atlantic' 'Breitbart' 'Business Insider' 'CNN' 'New York Times']\n",
      "['Atlantic' 'Buzzfeed News' 'Fox News' 'Guardian' 'National Review'\n",
      " 'New York Post' 'Talking Points Memo']\n",
      "['Guardian' 'NPR' 'Reuters' 'Vox' 'Washington Post']\n"
     ]
    }
   ],
   "source": [
    "publications1 = np.unique(df1[\"publication\"].values)\n",
    "publications2 = np.unique(df2[\"publication\"].values)\n",
    "publications3 = np.unique(df3[\"publication\"].values)\n",
    "print(publications1)\n",
    "print(publications2)\n",
    "print(publications3)"
   ]
  },
  {
   "cell_type": "markdown",
   "metadata": {
    "_uuid": "f427b751e1c6eb744dfc610edf9aeac35bd069fa"
   },
   "source": [
    "We want to select several reputable publications for the real news dataset, as well as several other 'less-reputable' publications, in order to have a more balanced representation of news published by a real news publication company. Those included are listed below. We used a media bias/fact check website (source: https://mediabiasfactcheck.com/) to assess each news publication company. The results are below (each company is rated on their factual reporting).\n",
    "\n",
    "Factual reporting:\n",
    "- Very High: reuters, npr\n",
    "- High: new york times, atlantic, guardian, washington post, vox\n",
    "- Mixed: fox news, cnn, national review\n"
   ]
  },
  {
   "cell_type": "code",
   "execution_count": 8,
   "metadata": {
    "_uuid": "c5390e12ac68086840ec54cfcfc8c840ae2f5bf1",
    "scrolled": true
   },
   "outputs": [],
   "source": [
    "df = pd.concat([df1,df2,df3])\n",
    "df = df.loc[df['publication'].isin(['New York Times', 'CNN','Atlantic','Fox News','Guardian','National Review','NPR','Reuters', 'Vox','Washington Post'])]"
   ]
  },
  {
   "cell_type": "code",
   "execution_count": 9,
   "metadata": {},
   "outputs": [],
   "source": [
    "# Renaming 'content' column as 'text', to match the name of the text news variable from the fake news dataset\n",
    "df = df.rename(columns={'content': 'text'})"
   ]
  },
  {
   "cell_type": "code",
   "execution_count": 10,
   "metadata": {},
   "outputs": [
    {
     "data": {
      "text/html": [
       "<div>\n",
       "<style scoped>\n",
       "    .dataframe tbody tr th:only-of-type {\n",
       "        vertical-align: middle;\n",
       "    }\n",
       "\n",
       "    .dataframe tbody tr th {\n",
       "        vertical-align: top;\n",
       "    }\n",
       "\n",
       "    .dataframe thead th {\n",
       "        text-align: right;\n",
       "    }\n",
       "</style>\n",
       "<table border=\"1\" class=\"dataframe\">\n",
       "  <thead>\n",
       "    <tr style=\"text-align: right;\">\n",
       "      <th></th>\n",
       "      <th>Unnamed: 0</th>\n",
       "      <th>id</th>\n",
       "      <th>title</th>\n",
       "      <th>publication</th>\n",
       "      <th>author</th>\n",
       "      <th>date</th>\n",
       "      <th>year</th>\n",
       "      <th>month</th>\n",
       "      <th>url</th>\n",
       "      <th>text</th>\n",
       "    </tr>\n",
       "  </thead>\n",
       "  <tbody>\n",
       "    <tr>\n",
       "      <th>0</th>\n",
       "      <td>0</td>\n",
       "      <td>17283</td>\n",
       "      <td>House Republicans Fret About Winning Their Hea...</td>\n",
       "      <td>New York Times</td>\n",
       "      <td>Carl Hulse</td>\n",
       "      <td>2016-12-31</td>\n",
       "      <td>2016.0</td>\n",
       "      <td>12.0</td>\n",
       "      <td>NaN</td>\n",
       "      <td>WASHINGTON  —   Congressional Republicans have...</td>\n",
       "    </tr>\n",
       "    <tr>\n",
       "      <th>8</th>\n",
       "      <td>8</td>\n",
       "      <td>17291</td>\n",
       "      <td>First, a Mixtape. Then a Romance. - The New Yo...</td>\n",
       "      <td>New York Times</td>\n",
       "      <td>Katherine Rosman</td>\n",
       "      <td>2016-12-31</td>\n",
       "      <td>2016.0</td>\n",
       "      <td>12.0</td>\n",
       "      <td>NaN</td>\n",
       "      <td>Just how   is Hillary Kerr, the    founder of ...</td>\n",
       "    </tr>\n",
       "    <tr>\n",
       "      <th>9</th>\n",
       "      <td>9</td>\n",
       "      <td>17292</td>\n",
       "      <td>Calling on Angels While Enduring the Trials of...</td>\n",
       "      <td>New York Times</td>\n",
       "      <td>Andy Newman</td>\n",
       "      <td>2016-12-31</td>\n",
       "      <td>2016.0</td>\n",
       "      <td>12.0</td>\n",
       "      <td>NaN</td>\n",
       "      <td>Angels are everywhere in the Muñiz family’s ap...</td>\n",
       "    </tr>\n",
       "    <tr>\n",
       "      <th>2547</th>\n",
       "      <td>2547</td>\n",
       "      <td>20127</td>\n",
       "      <td>U.S. Plans to Step Up Military Campaign Agains...</td>\n",
       "      <td>New York Times</td>\n",
       "      <td>Michael S. Schmidt and Eric Schmitt</td>\n",
       "      <td>2016-12-21</td>\n",
       "      <td>2016.0</td>\n",
       "      <td>12.0</td>\n",
       "      <td>NaN</td>\n",
       "      <td>ABU DHABI, United Arab Emirates  —   The Obama...</td>\n",
       "    </tr>\n",
       "    <tr>\n",
       "      <th>2551</th>\n",
       "      <td>2551</td>\n",
       "      <td>20131</td>\n",
       "      <td>272 Slaves Were Sold to Save Georgetown. What ...</td>\n",
       "      <td>New York Times</td>\n",
       "      <td>Rachel L. Swarns</td>\n",
       "      <td>2016-12-15</td>\n",
       "      <td>2016.0</td>\n",
       "      <td>12.0</td>\n",
       "      <td>NaN</td>\n",
       "      <td>WASHINGTON  —   The human cargo was loaded on ...</td>\n",
       "    </tr>\n",
       "  </tbody>\n",
       "</table>\n",
       "</div>"
      ],
      "text/plain": [
       "      Unnamed: 0     id                                              title  \\\n",
       "0              0  17283  House Republicans Fret About Winning Their Hea...   \n",
       "8              8  17291  First, a Mixtape. Then a Romance. - The New Yo...   \n",
       "9              9  17292  Calling on Angels While Enduring the Trials of...   \n",
       "2547        2547  20127  U.S. Plans to Step Up Military Campaign Agains...   \n",
       "2551        2551  20131  272 Slaves Were Sold to Save Georgetown. What ...   \n",
       "\n",
       "         publication                               author        date    year  \\\n",
       "0     New York Times                           Carl Hulse  2016-12-31  2016.0   \n",
       "8     New York Times                     Katherine Rosman  2016-12-31  2016.0   \n",
       "9     New York Times                          Andy Newman  2016-12-31  2016.0   \n",
       "2547  New York Times  Michael S. Schmidt and Eric Schmitt  2016-12-21  2016.0   \n",
       "2551  New York Times                     Rachel L. Swarns  2016-12-15  2016.0   \n",
       "\n",
       "      month  url                                               text  \n",
       "0      12.0  NaN  WASHINGTON  —   Congressional Republicans have...  \n",
       "8      12.0  NaN  Just how   is Hillary Kerr, the    founder of ...  \n",
       "9      12.0  NaN  Angels are everywhere in the Muñiz family’s ap...  \n",
       "2547   12.0  NaN  ABU DHABI, United Arab Emirates  —   The Obama...  \n",
       "2551   12.0  NaN  WASHINGTON  —   The human cargo was loaded on ...  "
      ]
     },
     "execution_count": 10,
     "metadata": {},
     "output_type": "execute_result"
    }
   ],
   "source": [
    "df.head()"
   ]
  },
  {
   "cell_type": "code",
   "execution_count": 11,
   "metadata": {},
   "outputs": [
    {
     "data": {
      "text/plain": [
       "Unnamed: 0       int64\n",
       "id               int64\n",
       "title           object\n",
       "publication     object\n",
       "author          object\n",
       "date            object\n",
       "year           float64\n",
       "month          float64\n",
       "url             object\n",
       "text            object\n",
       "dtype: object"
      ]
     },
     "execution_count": 11,
     "metadata": {},
     "output_type": "execute_result"
    }
   ],
   "source": [
    "df.dtypes"
   ]
  },
  {
   "cell_type": "code",
   "execution_count": 12,
   "metadata": {},
   "outputs": [],
   "source": [
    "# Converting month variable from float to integer\n",
    "df['month'] = pd.DataFrame(df['month'])"
   ]
  },
  {
   "cell_type": "code",
   "execution_count": 13,
   "metadata": {},
   "outputs": [],
   "source": [
    "df['month'] = df['month'].astype(int)"
   ]
  },
  {
   "cell_type": "code",
   "execution_count": 14,
   "metadata": {},
   "outputs": [
    {
     "data": {
      "text/plain": [
       "0       12\n",
       "8       12\n",
       "9       12\n",
       "2547    12\n",
       "2551    12\n",
       "Name: month, dtype: int64"
      ]
     },
     "execution_count": 14,
     "metadata": {},
     "output_type": "execute_result"
    }
   ],
   "source": [
    "df['month'].head()"
   ]
  },
  {
   "cell_type": "code",
   "execution_count": 15,
   "metadata": {},
   "outputs": [],
   "source": [
    "# Selecting only columns that are common with the fake news dataset\n",
    "real_news = df[['id', 'author', 'title', 'text', 'date', 'month', 'url']]"
   ]
  },
  {
   "cell_type": "code",
   "execution_count": 16,
   "metadata": {},
   "outputs": [
    {
     "name": "stderr",
     "output_type": "stream",
     "text": [
      "/Applications/anaconda3/lib/python3.6/site-packages/ipykernel_launcher.py:2: SettingWithCopyWarning: \n",
      "A value is trying to be set on a copy of a slice from a DataFrame.\n",
      "Try using .loc[row_indexer,col_indexer] = value instead\n",
      "\n",
      "See the caveats in the documentation: http://pandas.pydata.org/pandas-docs/stable/indexing.html#indexing-view-versus-copy\n",
      "  \n"
     ]
    }
   ],
   "source": [
    "# Creating Target variable called \"fake\".  It will have a value of 0 for real news and 1 for fake news\n",
    "real_news[\"fake\"] = 0"
   ]
  },
  {
   "cell_type": "code",
   "execution_count": 17,
   "metadata": {},
   "outputs": [
    {
     "data": {
      "text/html": [
       "<div>\n",
       "<style scoped>\n",
       "    .dataframe tbody tr th:only-of-type {\n",
       "        vertical-align: middle;\n",
       "    }\n",
       "\n",
       "    .dataframe tbody tr th {\n",
       "        vertical-align: top;\n",
       "    }\n",
       "\n",
       "    .dataframe thead th {\n",
       "        text-align: right;\n",
       "    }\n",
       "</style>\n",
       "<table border=\"1\" class=\"dataframe\">\n",
       "  <thead>\n",
       "    <tr style=\"text-align: right;\">\n",
       "      <th></th>\n",
       "      <th>id</th>\n",
       "      <th>author</th>\n",
       "      <th>title</th>\n",
       "      <th>text</th>\n",
       "      <th>date</th>\n",
       "      <th>month</th>\n",
       "      <th>url</th>\n",
       "      <th>fake</th>\n",
       "    </tr>\n",
       "  </thead>\n",
       "  <tbody>\n",
       "    <tr>\n",
       "      <th>0</th>\n",
       "      <td>17283</td>\n",
       "      <td>Carl Hulse</td>\n",
       "      <td>House Republicans Fret About Winning Their Hea...</td>\n",
       "      <td>WASHINGTON  —   Congressional Republicans have...</td>\n",
       "      <td>2016-12-31</td>\n",
       "      <td>12</td>\n",
       "      <td>NaN</td>\n",
       "      <td>0</td>\n",
       "    </tr>\n",
       "    <tr>\n",
       "      <th>8</th>\n",
       "      <td>17291</td>\n",
       "      <td>Katherine Rosman</td>\n",
       "      <td>First, a Mixtape. Then a Romance. - The New Yo...</td>\n",
       "      <td>Just how   is Hillary Kerr, the    founder of ...</td>\n",
       "      <td>2016-12-31</td>\n",
       "      <td>12</td>\n",
       "      <td>NaN</td>\n",
       "      <td>0</td>\n",
       "    </tr>\n",
       "    <tr>\n",
       "      <th>9</th>\n",
       "      <td>17292</td>\n",
       "      <td>Andy Newman</td>\n",
       "      <td>Calling on Angels While Enduring the Trials of...</td>\n",
       "      <td>Angels are everywhere in the Muñiz family’s ap...</td>\n",
       "      <td>2016-12-31</td>\n",
       "      <td>12</td>\n",
       "      <td>NaN</td>\n",
       "      <td>0</td>\n",
       "    </tr>\n",
       "    <tr>\n",
       "      <th>2547</th>\n",
       "      <td>20127</td>\n",
       "      <td>Michael S. Schmidt and Eric Schmitt</td>\n",
       "      <td>U.S. Plans to Step Up Military Campaign Agains...</td>\n",
       "      <td>ABU DHABI, United Arab Emirates  —   The Obama...</td>\n",
       "      <td>2016-12-21</td>\n",
       "      <td>12</td>\n",
       "      <td>NaN</td>\n",
       "      <td>0</td>\n",
       "    </tr>\n",
       "    <tr>\n",
       "      <th>2551</th>\n",
       "      <td>20131</td>\n",
       "      <td>Rachel L. Swarns</td>\n",
       "      <td>272 Slaves Were Sold to Save Georgetown. What ...</td>\n",
       "      <td>WASHINGTON  —   The human cargo was loaded on ...</td>\n",
       "      <td>2016-12-15</td>\n",
       "      <td>12</td>\n",
       "      <td>NaN</td>\n",
       "      <td>0</td>\n",
       "    </tr>\n",
       "  </tbody>\n",
       "</table>\n",
       "</div>"
      ],
      "text/plain": [
       "         id                               author  \\\n",
       "0     17283                           Carl Hulse   \n",
       "8     17291                     Katherine Rosman   \n",
       "9     17292                          Andy Newman   \n",
       "2547  20127  Michael S. Schmidt and Eric Schmitt   \n",
       "2551  20131                     Rachel L. Swarns   \n",
       "\n",
       "                                                  title  \\\n",
       "0     House Republicans Fret About Winning Their Hea...   \n",
       "8     First, a Mixtape. Then a Romance. - The New Yo...   \n",
       "9     Calling on Angels While Enduring the Trials of...   \n",
       "2547  U.S. Plans to Step Up Military Campaign Agains...   \n",
       "2551  272 Slaves Were Sold to Save Georgetown. What ...   \n",
       "\n",
       "                                                   text        date  month  \\\n",
       "0     WASHINGTON  —   Congressional Republicans have...  2016-12-31     12   \n",
       "8     Just how   is Hillary Kerr, the    founder of ...  2016-12-31     12   \n",
       "9     Angels are everywhere in the Muñiz family’s ap...  2016-12-31     12   \n",
       "2547  ABU DHABI, United Arab Emirates  —   The Obama...  2016-12-21     12   \n",
       "2551  WASHINGTON  —   The human cargo was loaded on ...  2016-12-15     12   \n",
       "\n",
       "      url  fake  \n",
       "0     NaN     0  \n",
       "8     NaN     0  \n",
       "9     NaN     0  \n",
       "2547  NaN     0  \n",
       "2551  NaN     0  "
      ]
     },
     "execution_count": 17,
     "metadata": {},
     "output_type": "execute_result"
    }
   ],
   "source": [
    "real_news.head()"
   ]
  },
  {
   "cell_type": "code",
   "execution_count": 18,
   "metadata": {},
   "outputs": [
    {
     "data": {
      "text/plain": [
       "(15712, 8)"
      ]
     },
     "execution_count": 18,
     "metadata": {},
     "output_type": "execute_result"
    }
   ],
   "source": [
    "real_news.shape"
   ]
  },
  {
   "cell_type": "code",
   "execution_count": 19,
   "metadata": {},
   "outputs": [],
   "source": [
    "# Saving data frame as a new csv file called \"real_news.csv\".\n",
    "real_news.to_csv('real_news.csv', encoding='utf-8')"
   ]
  },
  {
   "cell_type": "markdown",
   "metadata": {},
   "source": [
    "## Fake News dataset preparation"
   ]
  },
  {
   "cell_type": "code",
   "execution_count": 20,
   "metadata": {
    "scrolled": true
   },
   "outputs": [],
   "source": [
    "fake = pd.read_csv(\"../data/fake.csv\")"
   ]
  },
  {
   "cell_type": "code",
   "execution_count": 21,
   "metadata": {},
   "outputs": [
    {
     "data": {
      "text/html": [
       "<div>\n",
       "<style scoped>\n",
       "    .dataframe tbody tr th:only-of-type {\n",
       "        vertical-align: middle;\n",
       "    }\n",
       "\n",
       "    .dataframe tbody tr th {\n",
       "        vertical-align: top;\n",
       "    }\n",
       "\n",
       "    .dataframe thead th {\n",
       "        text-align: right;\n",
       "    }\n",
       "</style>\n",
       "<table border=\"1\" class=\"dataframe\">\n",
       "  <thead>\n",
       "    <tr style=\"text-align: right;\">\n",
       "      <th></th>\n",
       "      <th>uuid</th>\n",
       "      <th>ord_in_thread</th>\n",
       "      <th>author</th>\n",
       "      <th>published</th>\n",
       "      <th>title</th>\n",
       "      <th>text</th>\n",
       "      <th>language</th>\n",
       "      <th>crawled</th>\n",
       "      <th>site_url</th>\n",
       "      <th>country</th>\n",
       "      <th>domain_rank</th>\n",
       "      <th>thread_title</th>\n",
       "      <th>spam_score</th>\n",
       "      <th>main_img_url</th>\n",
       "      <th>replies_count</th>\n",
       "      <th>participants_count</th>\n",
       "      <th>likes</th>\n",
       "      <th>comments</th>\n",
       "      <th>shares</th>\n",
       "      <th>type</th>\n",
       "    </tr>\n",
       "  </thead>\n",
       "  <tbody>\n",
       "    <tr>\n",
       "      <th>0</th>\n",
       "      <td>6a175f46bcd24d39b3e962ad0f29936721db70db</td>\n",
       "      <td>0</td>\n",
       "      <td>Barracuda Brigade</td>\n",
       "      <td>2016-10-26T21:41:00.000+03:00</td>\n",
       "      <td>Muslims BUSTED: They Stole Millions In Gov’t B...</td>\n",
       "      <td>Print They should pay all the back all the mon...</td>\n",
       "      <td>english</td>\n",
       "      <td>2016-10-27T01:49:27.168+03:00</td>\n",
       "      <td>100percentfedup.com</td>\n",
       "      <td>US</td>\n",
       "      <td>25689.0</td>\n",
       "      <td>Muslims BUSTED: They Stole Millions In Gov’t B...</td>\n",
       "      <td>0.000</td>\n",
       "      <td>http://bb4sp.com/wp-content/uploads/2016/10/Fu...</td>\n",
       "      <td>0</td>\n",
       "      <td>1</td>\n",
       "      <td>0</td>\n",
       "      <td>0</td>\n",
       "      <td>0</td>\n",
       "      <td>bias</td>\n",
       "    </tr>\n",
       "    <tr>\n",
       "      <th>1</th>\n",
       "      <td>2bdc29d12605ef9cf3f09f9875040a7113be5d5b</td>\n",
       "      <td>0</td>\n",
       "      <td>reasoning with facts</td>\n",
       "      <td>2016-10-29T08:47:11.259+03:00</td>\n",
       "      <td>Re: Why Did Attorney General Loretta Lynch Ple...</td>\n",
       "      <td>Why Did Attorney General Loretta Lynch Plead T...</td>\n",
       "      <td>english</td>\n",
       "      <td>2016-10-29T08:47:11.259+03:00</td>\n",
       "      <td>100percentfedup.com</td>\n",
       "      <td>US</td>\n",
       "      <td>25689.0</td>\n",
       "      <td>Re: Why Did Attorney General Loretta Lynch Ple...</td>\n",
       "      <td>0.000</td>\n",
       "      <td>http://bb4sp.com/wp-content/uploads/2016/10/Fu...</td>\n",
       "      <td>0</td>\n",
       "      <td>1</td>\n",
       "      <td>0</td>\n",
       "      <td>0</td>\n",
       "      <td>0</td>\n",
       "      <td>bias</td>\n",
       "    </tr>\n",
       "    <tr>\n",
       "      <th>2</th>\n",
       "      <td>c70e149fdd53de5e61c29281100b9de0ed268bc3</td>\n",
       "      <td>0</td>\n",
       "      <td>Barracuda Brigade</td>\n",
       "      <td>2016-10-31T01:41:49.479+02:00</td>\n",
       "      <td>BREAKING: Weiner Cooperating With FBI On Hilla...</td>\n",
       "      <td>Red State : \\nFox News Sunday reported this mo...</td>\n",
       "      <td>english</td>\n",
       "      <td>2016-10-31T01:41:49.479+02:00</td>\n",
       "      <td>100percentfedup.com</td>\n",
       "      <td>US</td>\n",
       "      <td>25689.0</td>\n",
       "      <td>BREAKING: Weiner Cooperating With FBI On Hilla...</td>\n",
       "      <td>0.000</td>\n",
       "      <td>http://bb4sp.com/wp-content/uploads/2016/10/Fu...</td>\n",
       "      <td>0</td>\n",
       "      <td>1</td>\n",
       "      <td>0</td>\n",
       "      <td>0</td>\n",
       "      <td>0</td>\n",
       "      <td>bias</td>\n",
       "    </tr>\n",
       "    <tr>\n",
       "      <th>3</th>\n",
       "      <td>7cf7c15731ac2a116dd7f629bd57ea468ed70284</td>\n",
       "      <td>0</td>\n",
       "      <td>Fed Up</td>\n",
       "      <td>2016-11-01T05:22:00.000+02:00</td>\n",
       "      <td>PIN DROP SPEECH BY FATHER OF DAUGHTER Kidnappe...</td>\n",
       "      <td>Email Kayla Mueller was a prisoner and torture...</td>\n",
       "      <td>english</td>\n",
       "      <td>2016-11-01T15:46:26.304+02:00</td>\n",
       "      <td>100percentfedup.com</td>\n",
       "      <td>US</td>\n",
       "      <td>25689.0</td>\n",
       "      <td>PIN DROP SPEECH BY FATHER OF DAUGHTER Kidnappe...</td>\n",
       "      <td>0.068</td>\n",
       "      <td>http://100percentfedup.com/wp-content/uploads/...</td>\n",
       "      <td>0</td>\n",
       "      <td>0</td>\n",
       "      <td>0</td>\n",
       "      <td>0</td>\n",
       "      <td>0</td>\n",
       "      <td>bias</td>\n",
       "    </tr>\n",
       "  </tbody>\n",
       "</table>\n",
       "</div>"
      ],
      "text/plain": [
       "                                       uuid  ord_in_thread  \\\n",
       "0  6a175f46bcd24d39b3e962ad0f29936721db70db              0   \n",
       "1  2bdc29d12605ef9cf3f09f9875040a7113be5d5b              0   \n",
       "2  c70e149fdd53de5e61c29281100b9de0ed268bc3              0   \n",
       "3  7cf7c15731ac2a116dd7f629bd57ea468ed70284              0   \n",
       "\n",
       "                 author                      published  \\\n",
       "0     Barracuda Brigade  2016-10-26T21:41:00.000+03:00   \n",
       "1  reasoning with facts  2016-10-29T08:47:11.259+03:00   \n",
       "2     Barracuda Brigade  2016-10-31T01:41:49.479+02:00   \n",
       "3                Fed Up  2016-11-01T05:22:00.000+02:00   \n",
       "\n",
       "                                               title  \\\n",
       "0  Muslims BUSTED: They Stole Millions In Gov’t B...   \n",
       "1  Re: Why Did Attorney General Loretta Lynch Ple...   \n",
       "2  BREAKING: Weiner Cooperating With FBI On Hilla...   \n",
       "3  PIN DROP SPEECH BY FATHER OF DAUGHTER Kidnappe...   \n",
       "\n",
       "                                                text language  \\\n",
       "0  Print They should pay all the back all the mon...  english   \n",
       "1  Why Did Attorney General Loretta Lynch Plead T...  english   \n",
       "2  Red State : \\nFox News Sunday reported this mo...  english   \n",
       "3  Email Kayla Mueller was a prisoner and torture...  english   \n",
       "\n",
       "                         crawled             site_url country  domain_rank  \\\n",
       "0  2016-10-27T01:49:27.168+03:00  100percentfedup.com      US      25689.0   \n",
       "1  2016-10-29T08:47:11.259+03:00  100percentfedup.com      US      25689.0   \n",
       "2  2016-10-31T01:41:49.479+02:00  100percentfedup.com      US      25689.0   \n",
       "3  2016-11-01T15:46:26.304+02:00  100percentfedup.com      US      25689.0   \n",
       "\n",
       "                                        thread_title  spam_score  \\\n",
       "0  Muslims BUSTED: They Stole Millions In Gov’t B...       0.000   \n",
       "1  Re: Why Did Attorney General Loretta Lynch Ple...       0.000   \n",
       "2  BREAKING: Weiner Cooperating With FBI On Hilla...       0.000   \n",
       "3  PIN DROP SPEECH BY FATHER OF DAUGHTER Kidnappe...       0.068   \n",
       "\n",
       "                                        main_img_url  replies_count  \\\n",
       "0  http://bb4sp.com/wp-content/uploads/2016/10/Fu...              0   \n",
       "1  http://bb4sp.com/wp-content/uploads/2016/10/Fu...              0   \n",
       "2  http://bb4sp.com/wp-content/uploads/2016/10/Fu...              0   \n",
       "3  http://100percentfedup.com/wp-content/uploads/...              0   \n",
       "\n",
       "   participants_count  likes  comments  shares  type  \n",
       "0                   1      0         0       0  bias  \n",
       "1                   1      0         0       0  bias  \n",
       "2                   1      0         0       0  bias  \n",
       "3                   0      0         0       0  bias  "
      ]
     },
     "execution_count": 21,
     "metadata": {},
     "output_type": "execute_result"
    }
   ],
   "source": [
    "fake.head(4)"
   ]
  },
  {
   "cell_type": "code",
   "execution_count": 22,
   "metadata": {},
   "outputs": [
    {
     "data": {
      "text/plain": [
       "(12999, 20)"
      ]
     },
     "execution_count": 22,
     "metadata": {},
     "output_type": "execute_result"
    }
   ],
   "source": [
    "fake.shape"
   ]
  },
  {
   "cell_type": "code",
   "execution_count": 23,
   "metadata": {},
   "outputs": [
    {
     "data": {
      "text/plain": [
       "Index(['uuid', 'ord_in_thread', 'author', 'published', 'title', 'text',\n",
       "       'language', 'crawled', 'site_url', 'country', 'domain_rank',\n",
       "       'thread_title', 'spam_score', 'main_img_url', 'replies_count',\n",
       "       'participants_count', 'likes', 'comments', 'shares', 'type'],\n",
       "      dtype='object')"
      ]
     },
     "execution_count": 23,
     "metadata": {},
     "output_type": "execute_result"
    }
   ],
   "source": [
    "fake.columns"
   ]
  },
  {
   "cell_type": "code",
   "execution_count": 24,
   "metadata": {},
   "outputs": [],
   "source": [
    "# Selecting English language articles only\n",
    "english_fake_news = fake[fake[\"language\"] == \"english\"]"
   ]
  },
  {
   "cell_type": "code",
   "execution_count": 25,
   "metadata": {},
   "outputs": [
    {
     "data": {
      "text/plain": [
       "(12403, 20)"
      ]
     },
     "execution_count": 25,
     "metadata": {},
     "output_type": "execute_result"
    }
   ],
   "source": [
    "english_fake_news.shape"
   ]
  },
  {
   "cell_type": "code",
   "execution_count": 26,
   "metadata": {},
   "outputs": [],
   "source": [
    "# Selecting \"BS\" type English articles only\n",
    "all_fake_news = english_fake_news[english_fake_news[\"type\"] == \"bs\"]"
   ]
  },
  {
   "cell_type": "code",
   "execution_count": 27,
   "metadata": {},
   "outputs": [
    {
     "data": {
      "text/plain": [
       "(10900, 20)"
      ]
     },
     "execution_count": 27,
     "metadata": {},
     "output_type": "execute_result"
    }
   ],
   "source": [
    "all_fake_news.shape"
   ]
  },
  {
   "cell_type": "code",
   "execution_count": 28,
   "metadata": {},
   "outputs": [
    {
     "data": {
      "text/plain": [
       "uuid                     0\n",
       "ord_in_thread            0\n",
       "author                1731\n",
       "published                0\n",
       "title                  573\n",
       "text                     0\n",
       "language                 0\n",
       "crawled                  0\n",
       "site_url                 0\n",
       "country                176\n",
       "domain_rank           3990\n",
       "thread_title            12\n",
       "spam_score               0\n",
       "main_img_url          3310\n",
       "replies_count            0\n",
       "participants_count       0\n",
       "likes                    0\n",
       "comments                 0\n",
       "shares                   0\n",
       "type                     0\n",
       "dtype: int64"
      ]
     },
     "execution_count": 28,
     "metadata": {},
     "output_type": "execute_result"
    }
   ],
   "source": [
    "# Counting missing values\n",
    "all_fake_news.isnull().sum()"
   ]
  },
  {
   "cell_type": "code",
   "execution_count": 29,
   "metadata": {},
   "outputs": [
    {
     "name": "stderr",
     "output_type": "stream",
     "text": [
      "/Applications/anaconda3/lib/python3.6/site-packages/pandas/core/indexing.py:543: SettingWithCopyWarning: \n",
      "A value is trying to be set on a copy of a slice from a DataFrame.\n",
      "Try using .loc[row_indexer,col_indexer] = value instead\n",
      "\n",
      "See the caveats in the documentation: http://pandas.pydata.org/pandas-docs/stable/indexing.html#indexing-view-versus-copy\n",
      "  self.obj[item] = s\n"
     ]
    }
   ],
   "source": [
    "# Visual observation of the CSV file reveals that 'title' = 'thread_title'.  \n",
    "# Therefore, for the cases where title is missing, we impute the thread_title. \n",
    "# We will also replace the Nulls in 'title' with blanks ('')\n",
    "all_fake_news.loc[all_fake_news.title.isnull(),'title'] = \\\n",
    "    all_fake_news.loc[all_fake_news.title.isnull(),'thread_title']\n",
    "all_fake_news.loc[all_fake_news.title.isnull(),'title'] = ''"
   ]
  },
  {
   "cell_type": "code",
   "execution_count": 30,
   "metadata": {},
   "outputs": [
    {
     "data": {
      "text/plain": [
       "uuid                     0\n",
       "ord_in_thread            0\n",
       "author                1731\n",
       "published                0\n",
       "title                    0\n",
       "text                     0\n",
       "language                 0\n",
       "crawled                  0\n",
       "site_url                 0\n",
       "country                176\n",
       "domain_rank           3990\n",
       "thread_title            12\n",
       "spam_score               0\n",
       "main_img_url          3310\n",
       "replies_count            0\n",
       "participants_count       0\n",
       "likes                    0\n",
       "comments                 0\n",
       "shares                   0\n",
       "type                     0\n",
       "dtype: int64"
      ]
     },
     "execution_count": 30,
     "metadata": {},
     "output_type": "execute_result"
    }
   ],
   "source": [
    "# Counting missing values again\n",
    "all_fake_news.isnull().sum()\n",
    "# title now has 0 null values"
   ]
  },
  {
   "cell_type": "code",
   "execution_count": 31,
   "metadata": {},
   "outputs": [
    {
     "data": {
      "text/plain": [
       "Index(['uuid', 'ord_in_thread', 'author', 'published', 'title', 'text',\n",
       "       'language', 'crawled', 'site_url', 'country', 'domain_rank',\n",
       "       'thread_title', 'spam_score', 'main_img_url', 'replies_count',\n",
       "       'participants_count', 'likes', 'comments', 'shares', 'type'],\n",
       "      dtype='object')"
      ]
     },
     "execution_count": 31,
     "metadata": {},
     "output_type": "execute_result"
    }
   ],
   "source": [
    "all_fake_news.columns"
   ]
  },
  {
   "cell_type": "code",
   "execution_count": 32,
   "metadata": {},
   "outputs": [
    {
     "data": {
      "text/plain": [
       "59      2016-10-27 03:14:00.000\n",
       "60      2016-10-26 20:12:00.000\n",
       "61      2016-10-26 19:48:00.000\n",
       "62      2016-10-26 19:35:00.000\n",
       "63      2016-10-26 19:19:00.000\n",
       "64      2016-10-26 19:07:00.000\n",
       "65      2016-10-26 19:07:00.000\n",
       "66      2016-10-26 19:35:00.000\n",
       "67      2016-10-26 19:19:00.000\n",
       "68      2016-10-26 19:07:00.000\n",
       "69      2016-10-28 00:19:50.476\n",
       "70      2016-10-27 18:50:00.000\n",
       "71      2016-10-27 18:30:00.000\n",
       "72      2016-10-27 20:03:00.000\n",
       "73      2016-10-27 19:57:00.000\n",
       "74      2016-10-27 18:50:00.000\n",
       "75      2016-10-27 18:30:00.000\n",
       "76      2016-10-27 18:50:00.000\n",
       "77      2016-10-27 18:30:00.000\n",
       "78      2016-10-27 18:30:00.000\n",
       "79      2016-10-28 11:03:12.156\n",
       "80      2016-10-28 08:58:00.000\n",
       "81      2016-10-28 20:31:03.391\n",
       "82      2016-10-28 17:39:00.000\n",
       "83      2016-10-28 17:00:00.000\n",
       "84      2016-10-29 08:56:37.068\n",
       "85      2016-10-29 06:34:00.000\n",
       "86      2016-10-29 12:58:39.811\n",
       "87      2016-10-29 07:38:00.000\n",
       "88      2016-10-29 20:54:43.950\n",
       "                  ...          \n",
       "12969   2016-10-26 21:32:00.000\n",
       "12970   2016-10-26 21:37:44.486\n",
       "12971   2016-10-26 21:35:00.000\n",
       "12972   2016-10-26 21:35:00.000\n",
       "12973   2016-10-26 21:36:00.000\n",
       "12974   2016-10-26 21:37:44.612\n",
       "12975   2016-10-26 21:37:44.647\n",
       "12976   2016-10-26 21:37:44.720\n",
       "12977   2016-10-26 21:37:44.865\n",
       "12978   2016-10-26 21:37:44.959\n",
       "12979   2016-10-26 21:37:45.330\n",
       "12980   2016-10-26 21:37:45.355\n",
       "12981   2016-10-26 21:37:45.367\n",
       "12982   2016-10-26 21:06:00.000\n",
       "12983   2016-10-26 21:07:00.000\n",
       "12984   2016-10-26 21:27:00.000\n",
       "12985   2016-10-26 21:29:00.000\n",
       "12986   2016-10-26 21:09:00.000\n",
       "12987   2016-10-26 21:13:00.000\n",
       "12988   2016-10-26 21:15:00.000\n",
       "12989   2016-10-26 21:18:00.000\n",
       "12990   2016-10-26 21:30:00.000\n",
       "12991   2016-10-26 21:27:00.000\n",
       "12992   2016-10-26 21:33:00.000\n",
       "12993   2016-10-26 20:55:00.000\n",
       "12994   2016-10-26 20:58:00.000\n",
       "12995   2016-10-26 21:02:00.000\n",
       "12996   2016-10-26 21:06:00.000\n",
       "12997   2016-10-26 21:09:00.000\n",
       "12998   2016-10-26 21:09:00.000\n",
       "Name: published, Length: 10900, dtype: datetime64[ns]"
      ]
     },
     "execution_count": 32,
     "metadata": {},
     "output_type": "execute_result"
    }
   ],
   "source": [
    "# Processing published date variable to extract the month from it\n",
    "pd.to_datetime(all_fake_news['published'], format='%Y-%m-%d %H:%M:%S.%f')"
   ]
  },
  {
   "cell_type": "code",
   "execution_count": 33,
   "metadata": {},
   "outputs": [
    {
     "data": {
      "text/plain": [
       "dtype('O')"
      ]
     },
     "execution_count": 33,
     "metadata": {},
     "output_type": "execute_result"
    }
   ],
   "source": [
    "all_fake_news['published'].dtypes"
   ]
  },
  {
   "cell_type": "code",
   "execution_count": 34,
   "metadata": {},
   "outputs": [
    {
     "name": "stderr",
     "output_type": "stream",
     "text": [
      "/Applications/anaconda3/lib/python3.6/site-packages/ipykernel_launcher.py:1: SettingWithCopyWarning: \n",
      "A value is trying to be set on a copy of a slice from a DataFrame.\n",
      "Try using .loc[row_indexer,col_indexer] = value instead\n",
      "\n",
      "See the caveats in the documentation: http://pandas.pydata.org/pandas-docs/stable/indexing.html#indexing-view-versus-copy\n",
      "  \"\"\"Entry point for launching an IPython kernel.\n"
     ]
    }
   ],
   "source": [
    "all_fake_news['published'] = pd.to_datetime(all_fake_news['published'])"
   ]
  },
  {
   "cell_type": "code",
   "execution_count": 35,
   "metadata": {},
   "outputs": [
    {
     "data": {
      "text/plain": [
       "59   2016-10-27 03:14:00\n",
       "60   2016-10-26 20:12:00\n",
       "61   2016-10-26 19:48:00\n",
       "62   2016-10-26 19:35:00\n",
       "63   2016-10-26 19:19:00\n",
       "Name: published, dtype: datetime64[ns]"
      ]
     },
     "execution_count": 35,
     "metadata": {},
     "output_type": "execute_result"
    }
   ],
   "source": [
    "all_fake_news['published'].head()"
   ]
  },
  {
   "cell_type": "code",
   "execution_count": 36,
   "metadata": {},
   "outputs": [
    {
     "data": {
      "text/plain": [
       "dtype('<M8[ns]')"
      ]
     },
     "execution_count": 36,
     "metadata": {},
     "output_type": "execute_result"
    }
   ],
   "source": [
    "all_fake_news['published'].dtypes"
   ]
  },
  {
   "cell_type": "code",
   "execution_count": 37,
   "metadata": {},
   "outputs": [
    {
     "name": "stderr",
     "output_type": "stream",
     "text": [
      "/Applications/anaconda3/lib/python3.6/site-packages/pandas/core/indexing.py:362: SettingWithCopyWarning: \n",
      "A value is trying to be set on a copy of a slice from a DataFrame.\n",
      "Try using .loc[row_indexer,col_indexer] = value instead\n",
      "\n",
      "See the caveats in the documentation: http://pandas.pydata.org/pandas-docs/stable/indexing.html#indexing-view-versus-copy\n",
      "  self.obj[key] = _infer_fill_value(value)\n",
      "/Applications/anaconda3/lib/python3.6/site-packages/pandas/core/indexing.py:543: SettingWithCopyWarning: \n",
      "A value is trying to be set on a copy of a slice from a DataFrame.\n",
      "Try using .loc[row_indexer,col_indexer] = value instead\n",
      "\n",
      "See the caveats in the documentation: http://pandas.pydata.org/pandas-docs/stable/indexing.html#indexing-view-versus-copy\n",
      "  self.obj[item] = s\n"
     ]
    }
   ],
   "source": [
    "all_fake_news.loc[:,'month'] = all_fake_news['published'].dt.month"
   ]
  },
  {
   "cell_type": "code",
   "execution_count": 38,
   "metadata": {},
   "outputs": [
    {
     "data": {
      "text/html": [
       "<div>\n",
       "<style scoped>\n",
       "    .dataframe tbody tr th:only-of-type {\n",
       "        vertical-align: middle;\n",
       "    }\n",
       "\n",
       "    .dataframe tbody tr th {\n",
       "        vertical-align: top;\n",
       "    }\n",
       "\n",
       "    .dataframe thead th {\n",
       "        text-align: right;\n",
       "    }\n",
       "</style>\n",
       "<table border=\"1\" class=\"dataframe\">\n",
       "  <thead>\n",
       "    <tr style=\"text-align: right;\">\n",
       "      <th></th>\n",
       "      <th>uuid</th>\n",
       "      <th>ord_in_thread</th>\n",
       "      <th>author</th>\n",
       "      <th>published</th>\n",
       "      <th>title</th>\n",
       "      <th>text</th>\n",
       "      <th>language</th>\n",
       "      <th>crawled</th>\n",
       "      <th>site_url</th>\n",
       "      <th>country</th>\n",
       "      <th>...</th>\n",
       "      <th>thread_title</th>\n",
       "      <th>spam_score</th>\n",
       "      <th>main_img_url</th>\n",
       "      <th>replies_count</th>\n",
       "      <th>participants_count</th>\n",
       "      <th>likes</th>\n",
       "      <th>comments</th>\n",
       "      <th>shares</th>\n",
       "      <th>type</th>\n",
       "      <th>month</th>\n",
       "    </tr>\n",
       "  </thead>\n",
       "  <tbody>\n",
       "    <tr>\n",
       "      <th>59</th>\n",
       "      <td>b9af57aaf67e5894ea9cee78d8f646aecaa0ebd9</td>\n",
       "      <td>0</td>\n",
       "      <td>tokyowashi (noreply@blogger.com)</td>\n",
       "      <td>2016-10-27 03:14:00</td>\n",
       "      <td>#2816: Clinton Pride’s 8(a) Pig Farm Bridge – ...</td>\n",
       "      <td>United States Marine Field McConnell  Plum Cit...</td>\n",
       "      <td>english</td>\n",
       "      <td>2016-10-27T07:37:58.775+03:00</td>\n",
       "      <td>abeldanger.net</td>\n",
       "      <td>US</td>\n",
       "      <td>...</td>\n",
       "      <td>#2816: Clinton Pride’s 8(a) Pig Farm Bridge – ...</td>\n",
       "      <td>0.0</td>\n",
       "      <td>NaN</td>\n",
       "      <td>5</td>\n",
       "      <td>1</td>\n",
       "      <td>0</td>\n",
       "      <td>0</td>\n",
       "      <td>0</td>\n",
       "      <td>bs</td>\n",
       "      <td>10</td>\n",
       "    </tr>\n",
       "    <tr>\n",
       "      <th>60</th>\n",
       "      <td>03905a0f06cb711190aad3934af253a0e1c00a83</td>\n",
       "      <td>1</td>\n",
       "      <td>Anonymous</td>\n",
       "      <td>2016-10-26 20:12:00</td>\n",
       "      <td>#2816: Clinton Pride’s 8(a) Pig Farm Bridge – ...</td>\n",
       "      <td>So ,you have Rothschild banksters and British ...</td>\n",
       "      <td>english</td>\n",
       "      <td>2016-10-27T07:37:58.893+03:00</td>\n",
       "      <td>abeldanger.net</td>\n",
       "      <td>US</td>\n",
       "      <td>...</td>\n",
       "      <td>#2816: Clinton Pride’s 8(a) Pig Farm Bridge – ...</td>\n",
       "      <td>0.0</td>\n",
       "      <td>NaN</td>\n",
       "      <td>5</td>\n",
       "      <td>1</td>\n",
       "      <td>0</td>\n",
       "      <td>0</td>\n",
       "      <td>0</td>\n",
       "      <td>bs</td>\n",
       "      <td>10</td>\n",
       "    </tr>\n",
       "    <tr>\n",
       "      <th>61</th>\n",
       "      <td>42c16d3818e64ff4632409cafd309c22df530ac1</td>\n",
       "      <td>2</td>\n",
       "      <td>Anonymous</td>\n",
       "      <td>2016-10-26 19:48:00</td>\n",
       "      <td>#2816: Clinton Pride’s 8(a) Pig Farm Bridge – ...</td>\n",
       "      <td>Here is the problem . The USA constitution sta...</td>\n",
       "      <td>english</td>\n",
       "      <td>2016-10-27T07:37:58.902+03:00</td>\n",
       "      <td>abeldanger.net</td>\n",
       "      <td>US</td>\n",
       "      <td>...</td>\n",
       "      <td>#2816: Clinton Pride’s 8(a) Pig Farm Bridge – ...</td>\n",
       "      <td>0.0</td>\n",
       "      <td>NaN</td>\n",
       "      <td>5</td>\n",
       "      <td>1</td>\n",
       "      <td>0</td>\n",
       "      <td>0</td>\n",
       "      <td>0</td>\n",
       "      <td>bs</td>\n",
       "      <td>10</td>\n",
       "    </tr>\n",
       "    <tr>\n",
       "      <th>62</th>\n",
       "      <td>336f5dfbea5f263dbdd6ec9be9d1d94d255caa1f</td>\n",
       "      <td>3</td>\n",
       "      <td>Anonymous</td>\n",
       "      <td>2016-10-26 19:35:00</td>\n",
       "      <td>#2816: Clinton Pride’s 8(a) Pig Farm Bridge – ...</td>\n",
       "      <td>There is plenty of proof the machines are rigg...</td>\n",
       "      <td>english</td>\n",
       "      <td>2016-10-27T07:37:58.915+03:00</td>\n",
       "      <td>abeldanger.net</td>\n",
       "      <td>US</td>\n",
       "      <td>...</td>\n",
       "      <td>#2816: Clinton Pride’s 8(a) Pig Farm Bridge – ...</td>\n",
       "      <td>0.0</td>\n",
       "      <td>NaN</td>\n",
       "      <td>5</td>\n",
       "      <td>1</td>\n",
       "      <td>0</td>\n",
       "      <td>0</td>\n",
       "      <td>0</td>\n",
       "      <td>bs</td>\n",
       "      <td>10</td>\n",
       "    </tr>\n",
       "  </tbody>\n",
       "</table>\n",
       "<p>4 rows × 21 columns</p>\n",
       "</div>"
      ],
      "text/plain": [
       "                                        uuid  ord_in_thread  \\\n",
       "59  b9af57aaf67e5894ea9cee78d8f646aecaa0ebd9              0   \n",
       "60  03905a0f06cb711190aad3934af253a0e1c00a83              1   \n",
       "61  42c16d3818e64ff4632409cafd309c22df530ac1              2   \n",
       "62  336f5dfbea5f263dbdd6ec9be9d1d94d255caa1f              3   \n",
       "\n",
       "                              author           published  \\\n",
       "59  tokyowashi (noreply@blogger.com) 2016-10-27 03:14:00   \n",
       "60                         Anonymous 2016-10-26 20:12:00   \n",
       "61                         Anonymous 2016-10-26 19:48:00   \n",
       "62                         Anonymous 2016-10-26 19:35:00   \n",
       "\n",
       "                                                title  \\\n",
       "59  #2816: Clinton Pride’s 8(a) Pig Farm Bridge – ...   \n",
       "60  #2816: Clinton Pride’s 8(a) Pig Farm Bridge – ...   \n",
       "61  #2816: Clinton Pride’s 8(a) Pig Farm Bridge – ...   \n",
       "62  #2816: Clinton Pride’s 8(a) Pig Farm Bridge – ...   \n",
       "\n",
       "                                                 text language  \\\n",
       "59  United States Marine Field McConnell  Plum Cit...  english   \n",
       "60  So ,you have Rothschild banksters and British ...  english   \n",
       "61  Here is the problem . The USA constitution sta...  english   \n",
       "62  There is plenty of proof the machines are rigg...  english   \n",
       "\n",
       "                          crawled        site_url country  ...   \\\n",
       "59  2016-10-27T07:37:58.775+03:00  abeldanger.net      US  ...    \n",
       "60  2016-10-27T07:37:58.893+03:00  abeldanger.net      US  ...    \n",
       "61  2016-10-27T07:37:58.902+03:00  abeldanger.net      US  ...    \n",
       "62  2016-10-27T07:37:58.915+03:00  abeldanger.net      US  ...    \n",
       "\n",
       "                                         thread_title spam_score  \\\n",
       "59  #2816: Clinton Pride’s 8(a) Pig Farm Bridge – ...        0.0   \n",
       "60  #2816: Clinton Pride’s 8(a) Pig Farm Bridge – ...        0.0   \n",
       "61  #2816: Clinton Pride’s 8(a) Pig Farm Bridge – ...        0.0   \n",
       "62  #2816: Clinton Pride’s 8(a) Pig Farm Bridge – ...        0.0   \n",
       "\n",
       "    main_img_url replies_count  participants_count  likes  comments  shares  \\\n",
       "59           NaN             5                   1      0         0       0   \n",
       "60           NaN             5                   1      0         0       0   \n",
       "61           NaN             5                   1      0         0       0   \n",
       "62           NaN             5                   1      0         0       0   \n",
       "\n",
       "    type month  \n",
       "59    bs    10  \n",
       "60    bs    10  \n",
       "61    bs    10  \n",
       "62    bs    10  \n",
       "\n",
       "[4 rows x 21 columns]"
      ]
     },
     "execution_count": 38,
     "metadata": {},
     "output_type": "execute_result"
    }
   ],
   "source": [
    "all_fake_news.head(4)"
   ]
  },
  {
   "cell_type": "code",
   "execution_count": 39,
   "metadata": {},
   "outputs": [
    {
     "data": {
      "text/plain": [
       "Index(['uuid', 'ord_in_thread', 'author', 'published', 'title', 'text',\n",
       "       'language', 'crawled', 'site_url', 'country', 'domain_rank',\n",
       "       'thread_title', 'spam_score', 'main_img_url', 'replies_count',\n",
       "       'participants_count', 'likes', 'comments', 'shares', 'type', 'month'],\n",
       "      dtype='object')"
      ]
     },
     "execution_count": 39,
     "metadata": {},
     "output_type": "execute_result"
    }
   ],
   "source": [
    "all_fake_news.columns"
   ]
  },
  {
   "cell_type": "code",
   "execution_count": 40,
   "metadata": {},
   "outputs": [
    {
     "data": {
      "text/plain": [
       "Index(['id', 'author', 'title', 'text', 'date', 'month', 'url', 'fake'], dtype='object')"
      ]
     },
     "execution_count": 40,
     "metadata": {},
     "output_type": "execute_result"
    }
   ],
   "source": [
    "real_news.columns"
   ]
  },
  {
   "cell_type": "code",
   "execution_count": 41,
   "metadata": {},
   "outputs": [],
   "source": [
    "# Renaming columns to have same name as columns of the 'real' news dataset\n",
    "all_fake_news = all_fake_news.rename(columns={'uuid': 'id', 'published': 'date', 'site_url': 'url'})"
   ]
  },
  {
   "cell_type": "code",
   "execution_count": 42,
   "metadata": {},
   "outputs": [
    {
     "data": {
      "text/plain": [
       "Index(['id', 'ord_in_thread', 'author', 'date', 'title', 'text', 'language',\n",
       "       'crawled', 'url', 'country', 'domain_rank', 'thread_title',\n",
       "       'spam_score', 'main_img_url', 'replies_count', 'participants_count',\n",
       "       'likes', 'comments', 'shares', 'type', 'month'],\n",
       "      dtype='object')"
      ]
     },
     "execution_count": 42,
     "metadata": {},
     "output_type": "execute_result"
    }
   ],
   "source": [
    "all_fake_news.columns"
   ]
  },
  {
   "cell_type": "code",
   "execution_count": 43,
   "metadata": {},
   "outputs": [],
   "source": [
    "# Selecting only columns that are common with the real news dataset\n",
    "fake_news = all_fake_news[['id', 'author', 'title', 'text', 'date', 'month','url']]"
   ]
  },
  {
   "cell_type": "code",
   "execution_count": 44,
   "metadata": {},
   "outputs": [
    {
     "data": {
      "text/plain": [
       "Index(['id', 'author', 'title', 'text', 'date', 'month', 'url'], dtype='object')"
      ]
     },
     "execution_count": 44,
     "metadata": {},
     "output_type": "execute_result"
    }
   ],
   "source": [
    "fake_news.columns"
   ]
  },
  {
   "cell_type": "code",
   "execution_count": 45,
   "metadata": {},
   "outputs": [
    {
     "data": {
      "text/plain": [
       "(10900, 7)"
      ]
     },
     "execution_count": 45,
     "metadata": {},
     "output_type": "execute_result"
    }
   ],
   "source": [
    "fake_news.shape"
   ]
  },
  {
   "cell_type": "code",
   "execution_count": 46,
   "metadata": {},
   "outputs": [
    {
     "name": "stderr",
     "output_type": "stream",
     "text": [
      "/Applications/anaconda3/lib/python3.6/site-packages/pandas/core/indexing.py:362: SettingWithCopyWarning: \n",
      "A value is trying to be set on a copy of a slice from a DataFrame.\n",
      "Try using .loc[row_indexer,col_indexer] = value instead\n",
      "\n",
      "See the caveats in the documentation: http://pandas.pydata.org/pandas-docs/stable/indexing.html#indexing-view-versus-copy\n",
      "  self.obj[key] = _infer_fill_value(value)\n",
      "/Applications/anaconda3/lib/python3.6/site-packages/pandas/core/indexing.py:543: SettingWithCopyWarning: \n",
      "A value is trying to be set on a copy of a slice from a DataFrame.\n",
      "Try using .loc[row_indexer,col_indexer] = value instead\n",
      "\n",
      "See the caveats in the documentation: http://pandas.pydata.org/pandas-docs/stable/indexing.html#indexing-view-versus-copy\n",
      "  self.obj[item] = s\n"
     ]
    }
   ],
   "source": [
    "# Creating Target variable called \"fake\".  It will have a value of 0 for real news items and 1 for fake news items\n",
    "fake_news.loc[:,\"fake\"] = 1"
   ]
  },
  {
   "cell_type": "code",
   "execution_count": 47,
   "metadata": {},
   "outputs": [
    {
     "data": {
      "text/plain": [
       "(10900, 8)"
      ]
     },
     "execution_count": 47,
     "metadata": {},
     "output_type": "execute_result"
    }
   ],
   "source": [
    "fake_news.shape"
   ]
  },
  {
   "cell_type": "code",
   "execution_count": 48,
   "metadata": {},
   "outputs": [
    {
     "data": {
      "text/html": [
       "<div>\n",
       "<style scoped>\n",
       "    .dataframe tbody tr th:only-of-type {\n",
       "        vertical-align: middle;\n",
       "    }\n",
       "\n",
       "    .dataframe tbody tr th {\n",
       "        vertical-align: top;\n",
       "    }\n",
       "\n",
       "    .dataframe thead th {\n",
       "        text-align: right;\n",
       "    }\n",
       "</style>\n",
       "<table border=\"1\" class=\"dataframe\">\n",
       "  <thead>\n",
       "    <tr style=\"text-align: right;\">\n",
       "      <th></th>\n",
       "      <th>id</th>\n",
       "      <th>author</th>\n",
       "      <th>title</th>\n",
       "      <th>text</th>\n",
       "      <th>date</th>\n",
       "      <th>month</th>\n",
       "      <th>url</th>\n",
       "      <th>fake</th>\n",
       "    </tr>\n",
       "  </thead>\n",
       "  <tbody>\n",
       "    <tr>\n",
       "      <th>59</th>\n",
       "      <td>b9af57aaf67e5894ea9cee78d8f646aecaa0ebd9</td>\n",
       "      <td>tokyowashi (noreply@blogger.com)</td>\n",
       "      <td>#2816: Clinton Pride’s 8(a) Pig Farm Bridge – ...</td>\n",
       "      <td>United States Marine Field McConnell  Plum Cit...</td>\n",
       "      <td>2016-10-27 03:14:00</td>\n",
       "      <td>10</td>\n",
       "      <td>abeldanger.net</td>\n",
       "      <td>1</td>\n",
       "    </tr>\n",
       "    <tr>\n",
       "      <th>60</th>\n",
       "      <td>03905a0f06cb711190aad3934af253a0e1c00a83</td>\n",
       "      <td>Anonymous</td>\n",
       "      <td>#2816: Clinton Pride’s 8(a) Pig Farm Bridge – ...</td>\n",
       "      <td>So ,you have Rothschild banksters and British ...</td>\n",
       "      <td>2016-10-26 20:12:00</td>\n",
       "      <td>10</td>\n",
       "      <td>abeldanger.net</td>\n",
       "      <td>1</td>\n",
       "    </tr>\n",
       "    <tr>\n",
       "      <th>61</th>\n",
       "      <td>42c16d3818e64ff4632409cafd309c22df530ac1</td>\n",
       "      <td>Anonymous</td>\n",
       "      <td>#2816: Clinton Pride’s 8(a) Pig Farm Bridge – ...</td>\n",
       "      <td>Here is the problem . The USA constitution sta...</td>\n",
       "      <td>2016-10-26 19:48:00</td>\n",
       "      <td>10</td>\n",
       "      <td>abeldanger.net</td>\n",
       "      <td>1</td>\n",
       "    </tr>\n",
       "    <tr>\n",
       "      <th>62</th>\n",
       "      <td>336f5dfbea5f263dbdd6ec9be9d1d94d255caa1f</td>\n",
       "      <td>Anonymous</td>\n",
       "      <td>#2816: Clinton Pride’s 8(a) Pig Farm Bridge – ...</td>\n",
       "      <td>There is plenty of proof the machines are rigg...</td>\n",
       "      <td>2016-10-26 19:35:00</td>\n",
       "      <td>10</td>\n",
       "      <td>abeldanger.net</td>\n",
       "      <td>1</td>\n",
       "    </tr>\n",
       "  </tbody>\n",
       "</table>\n",
       "</div>"
      ],
      "text/plain": [
       "                                          id  \\\n",
       "59  b9af57aaf67e5894ea9cee78d8f646aecaa0ebd9   \n",
       "60  03905a0f06cb711190aad3934af253a0e1c00a83   \n",
       "61  42c16d3818e64ff4632409cafd309c22df530ac1   \n",
       "62  336f5dfbea5f263dbdd6ec9be9d1d94d255caa1f   \n",
       "\n",
       "                              author  \\\n",
       "59  tokyowashi (noreply@blogger.com)   \n",
       "60                         Anonymous   \n",
       "61                         Anonymous   \n",
       "62                         Anonymous   \n",
       "\n",
       "                                                title  \\\n",
       "59  #2816: Clinton Pride’s 8(a) Pig Farm Bridge – ...   \n",
       "60  #2816: Clinton Pride’s 8(a) Pig Farm Bridge – ...   \n",
       "61  #2816: Clinton Pride’s 8(a) Pig Farm Bridge – ...   \n",
       "62  #2816: Clinton Pride’s 8(a) Pig Farm Bridge – ...   \n",
       "\n",
       "                                                 text                date  \\\n",
       "59  United States Marine Field McConnell  Plum Cit... 2016-10-27 03:14:00   \n",
       "60  So ,you have Rothschild banksters and British ... 2016-10-26 20:12:00   \n",
       "61  Here is the problem . The USA constitution sta... 2016-10-26 19:48:00   \n",
       "62  There is plenty of proof the machines are rigg... 2016-10-26 19:35:00   \n",
       "\n",
       "    month             url  fake  \n",
       "59     10  abeldanger.net     1  \n",
       "60     10  abeldanger.net     1  \n",
       "61     10  abeldanger.net     1  \n",
       "62     10  abeldanger.net     1  "
      ]
     },
     "execution_count": 48,
     "metadata": {},
     "output_type": "execute_result"
    }
   ],
   "source": [
    "fake_news.head(4)"
   ]
  },
  {
   "cell_type": "code",
   "execution_count": 49,
   "metadata": {},
   "outputs": [],
   "source": [
    "# Saving data frame as a new csv file called \"fake_news.csv\".\n",
    "fake_news.to_csv('fake_news.csv', encoding='utf-8')"
   ]
  },
  {
   "cell_type": "markdown",
   "metadata": {},
   "source": [
    "## Combined Real-Fake News dataset preparation"
   ]
  },
  {
   "cell_type": "markdown",
   "metadata": {},
   "source": [
    "### Merging real_news and fake_news datasets"
   ]
  },
  {
   "cell_type": "code",
   "execution_count": 50,
   "metadata": {},
   "outputs": [],
   "source": [
    "frames = [real_news, fake_news]"
   ]
  },
  {
   "cell_type": "code",
   "execution_count": 51,
   "metadata": {},
   "outputs": [],
   "source": [
    "real_fake = pd.concat(frames)"
   ]
  },
  {
   "cell_type": "code",
   "execution_count": 52,
   "metadata": {},
   "outputs": [
    {
     "data": {
      "text/plain": [
       "Index(['id', 'author', 'title', 'text', 'date', 'month', 'url', 'fake'], dtype='object')"
      ]
     },
     "execution_count": 52,
     "metadata": {},
     "output_type": "execute_result"
    }
   ],
   "source": [
    "real_fake.columns"
   ]
  },
  {
   "cell_type": "code",
   "execution_count": 53,
   "metadata": {},
   "outputs": [
    {
     "data": {
      "text/plain": [
       "(26612, 8)"
      ]
     },
     "execution_count": 53,
     "metadata": {},
     "output_type": "execute_result"
    }
   ],
   "source": [
    "real_fake.shape"
   ]
  },
  {
   "cell_type": "code",
   "execution_count": 54,
   "metadata": {},
   "outputs": [
    {
     "data": {
      "text/html": [
       "<div>\n",
       "<style scoped>\n",
       "    .dataframe tbody tr th:only-of-type {\n",
       "        vertical-align: middle;\n",
       "    }\n",
       "\n",
       "    .dataframe tbody tr th {\n",
       "        vertical-align: top;\n",
       "    }\n",
       "\n",
       "    .dataframe thead th {\n",
       "        text-align: right;\n",
       "    }\n",
       "</style>\n",
       "<table border=\"1\" class=\"dataframe\">\n",
       "  <thead>\n",
       "    <tr style=\"text-align: right;\">\n",
       "      <th></th>\n",
       "      <th>id</th>\n",
       "      <th>author</th>\n",
       "      <th>title</th>\n",
       "      <th>text</th>\n",
       "      <th>date</th>\n",
       "      <th>month</th>\n",
       "      <th>url</th>\n",
       "      <th>fake</th>\n",
       "    </tr>\n",
       "  </thead>\n",
       "  <tbody>\n",
       "    <tr>\n",
       "      <th>0</th>\n",
       "      <td>17283</td>\n",
       "      <td>Carl Hulse</td>\n",
       "      <td>House Republicans Fret About Winning Their Hea...</td>\n",
       "      <td>WASHINGTON  —   Congressional Republicans have...</td>\n",
       "      <td>2016-12-31</td>\n",
       "      <td>12</td>\n",
       "      <td>NaN</td>\n",
       "      <td>0</td>\n",
       "    </tr>\n",
       "    <tr>\n",
       "      <th>8</th>\n",
       "      <td>17291</td>\n",
       "      <td>Katherine Rosman</td>\n",
       "      <td>First, a Mixtape. Then a Romance. - The New Yo...</td>\n",
       "      <td>Just how   is Hillary Kerr, the    founder of ...</td>\n",
       "      <td>2016-12-31</td>\n",
       "      <td>12</td>\n",
       "      <td>NaN</td>\n",
       "      <td>0</td>\n",
       "    </tr>\n",
       "    <tr>\n",
       "      <th>9</th>\n",
       "      <td>17292</td>\n",
       "      <td>Andy Newman</td>\n",
       "      <td>Calling on Angels While Enduring the Trials of...</td>\n",
       "      <td>Angels are everywhere in the Muñiz family’s ap...</td>\n",
       "      <td>2016-12-31</td>\n",
       "      <td>12</td>\n",
       "      <td>NaN</td>\n",
       "      <td>0</td>\n",
       "    </tr>\n",
       "    <tr>\n",
       "      <th>2547</th>\n",
       "      <td>20127</td>\n",
       "      <td>Michael S. Schmidt and Eric Schmitt</td>\n",
       "      <td>U.S. Plans to Step Up Military Campaign Agains...</td>\n",
       "      <td>ABU DHABI, United Arab Emirates  —   The Obama...</td>\n",
       "      <td>2016-12-21</td>\n",
       "      <td>12</td>\n",
       "      <td>NaN</td>\n",
       "      <td>0</td>\n",
       "    </tr>\n",
       "    <tr>\n",
       "      <th>2551</th>\n",
       "      <td>20131</td>\n",
       "      <td>Rachel L. Swarns</td>\n",
       "      <td>272 Slaves Were Sold to Save Georgetown. What ...</td>\n",
       "      <td>WASHINGTON  —   The human cargo was loaded on ...</td>\n",
       "      <td>2016-12-15</td>\n",
       "      <td>12</td>\n",
       "      <td>NaN</td>\n",
       "      <td>0</td>\n",
       "    </tr>\n",
       "  </tbody>\n",
       "</table>\n",
       "</div>"
      ],
      "text/plain": [
       "         id                               author  \\\n",
       "0     17283                           Carl Hulse   \n",
       "8     17291                     Katherine Rosman   \n",
       "9     17292                          Andy Newman   \n",
       "2547  20127  Michael S. Schmidt and Eric Schmitt   \n",
       "2551  20131                     Rachel L. Swarns   \n",
       "\n",
       "                                                  title  \\\n",
       "0     House Republicans Fret About Winning Their Hea...   \n",
       "8     First, a Mixtape. Then a Romance. - The New Yo...   \n",
       "9     Calling on Angels While Enduring the Trials of...   \n",
       "2547  U.S. Plans to Step Up Military Campaign Agains...   \n",
       "2551  272 Slaves Were Sold to Save Georgetown. What ...   \n",
       "\n",
       "                                                   text        date  month  \\\n",
       "0     WASHINGTON  —   Congressional Republicans have...  2016-12-31     12   \n",
       "8     Just how   is Hillary Kerr, the    founder of ...  2016-12-31     12   \n",
       "9     Angels are everywhere in the Muñiz family’s ap...  2016-12-31     12   \n",
       "2547  ABU DHABI, United Arab Emirates  —   The Obama...  2016-12-21     12   \n",
       "2551  WASHINGTON  —   The human cargo was loaded on ...  2016-12-15     12   \n",
       "\n",
       "      url  fake  \n",
       "0     NaN     0  \n",
       "8     NaN     0  \n",
       "9     NaN     0  \n",
       "2547  NaN     0  \n",
       "2551  NaN     0  "
      ]
     },
     "execution_count": 54,
     "metadata": {},
     "output_type": "execute_result"
    }
   ],
   "source": [
    "real_fake.head()"
   ]
  },
  {
   "cell_type": "code",
   "execution_count": 55,
   "metadata": {},
   "outputs": [],
   "source": [
    "# converting target variable (\"fake\" column) to \"category\" (factor)\n",
    "real_fake['fake'] = real_fake.fake.astype('category')"
   ]
  },
  {
   "cell_type": "code",
   "execution_count": 56,
   "metadata": {},
   "outputs": [
    {
     "data": {
      "text/plain": [
       "id          object\n",
       "author      object\n",
       "title       object\n",
       "text        object\n",
       "date        object\n",
       "month        int64\n",
       "url         object\n",
       "fake      category\n",
       "dtype: object"
      ]
     },
     "execution_count": 56,
     "metadata": {},
     "output_type": "execute_result"
    }
   ],
   "source": [
    "real_fake.dtypes"
   ]
  },
  {
   "cell_type": "markdown",
   "metadata": {},
   "source": [
    "### Saving data frame as a new csv file called \"real_fake_news.csv\"."
   ]
  },
  {
   "cell_type": "code",
   "execution_count": 57,
   "metadata": {},
   "outputs": [],
   "source": [
    "real_fake.to_csv(\"../data/real_fake_news.csv\", encoding='utf-8',index_label=False)"
   ]
  },
  {
   "cell_type": "markdown",
   "metadata": {},
   "source": [
    "\n",
    "\n",
    "# 2. Exploratory Data Analysis (EDA)"
   ]
  },
  {
   "cell_type": "code",
   "execution_count": 58,
   "metadata": {},
   "outputs": [],
   "source": [
    "import pandas as pd\n",
    "import numpy as np\n",
    "import matplotlib.pyplot as plt\n",
    "%matplotlib inline\n",
    "import matplotlib as mpl\n",
    "import scipy.stats as spstats\n",
    "import datetime\n",
    "pd.options.mode.chained_assignment = None\n",
    "plt.style.use('ggplot')\n",
    "import nltk\n",
    "# nltk.download('punkt')  ## run this command only if you don't have the 'punkt' package already installed\n",
    "import spacy\n",
    "nlp = spacy.load('en', parse = False, tag=False, entity=False)\n",
    "stopword_list = nltk.corpus.stopwords.words('english')\n",
    "stopword_list.remove('no')\n",
    "stopword_list.remove('not')"
   ]
  },
  {
   "cell_type": "code",
   "execution_count": 59,
   "metadata": {},
   "outputs": [],
   "source": [
    "all_news = real_fake"
   ]
  },
  {
   "cell_type": "code",
   "execution_count": 60,
   "metadata": {},
   "outputs": [
    {
     "data": {
      "text/html": [
       "<div>\n",
       "<style scoped>\n",
       "    .dataframe tbody tr th:only-of-type {\n",
       "        vertical-align: middle;\n",
       "    }\n",
       "\n",
       "    .dataframe tbody tr th {\n",
       "        vertical-align: top;\n",
       "    }\n",
       "\n",
       "    .dataframe thead th {\n",
       "        text-align: right;\n",
       "    }\n",
       "</style>\n",
       "<table border=\"1\" class=\"dataframe\">\n",
       "  <thead>\n",
       "    <tr style=\"text-align: right;\">\n",
       "      <th></th>\n",
       "      <th>id</th>\n",
       "      <th>author</th>\n",
       "      <th>title</th>\n",
       "      <th>text</th>\n",
       "      <th>date</th>\n",
       "      <th>month</th>\n",
       "      <th>url</th>\n",
       "      <th>fake</th>\n",
       "    </tr>\n",
       "  </thead>\n",
       "  <tbody>\n",
       "    <tr>\n",
       "      <th>0</th>\n",
       "      <td>17283</td>\n",
       "      <td>Carl Hulse</td>\n",
       "      <td>House Republicans Fret About Winning Their Hea...</td>\n",
       "      <td>WASHINGTON  —   Congressional Republicans have...</td>\n",
       "      <td>2016-12-31</td>\n",
       "      <td>12</td>\n",
       "      <td>NaN</td>\n",
       "      <td>0</td>\n",
       "    </tr>\n",
       "    <tr>\n",
       "      <th>8</th>\n",
       "      <td>17291</td>\n",
       "      <td>Katherine Rosman</td>\n",
       "      <td>First, a Mixtape. Then a Romance. - The New Yo...</td>\n",
       "      <td>Just how   is Hillary Kerr, the    founder of ...</td>\n",
       "      <td>2016-12-31</td>\n",
       "      <td>12</td>\n",
       "      <td>NaN</td>\n",
       "      <td>0</td>\n",
       "    </tr>\n",
       "    <tr>\n",
       "      <th>9</th>\n",
       "      <td>17292</td>\n",
       "      <td>Andy Newman</td>\n",
       "      <td>Calling on Angels While Enduring the Trials of...</td>\n",
       "      <td>Angels are everywhere in the Muñiz family’s ap...</td>\n",
       "      <td>2016-12-31</td>\n",
       "      <td>12</td>\n",
       "      <td>NaN</td>\n",
       "      <td>0</td>\n",
       "    </tr>\n",
       "    <tr>\n",
       "      <th>2547</th>\n",
       "      <td>20127</td>\n",
       "      <td>Michael S. Schmidt and Eric Schmitt</td>\n",
       "      <td>U.S. Plans to Step Up Military Campaign Agains...</td>\n",
       "      <td>ABU DHABI, United Arab Emirates  —   The Obama...</td>\n",
       "      <td>2016-12-21</td>\n",
       "      <td>12</td>\n",
       "      <td>NaN</td>\n",
       "      <td>0</td>\n",
       "    </tr>\n",
       "    <tr>\n",
       "      <th>2551</th>\n",
       "      <td>20131</td>\n",
       "      <td>Rachel L. Swarns</td>\n",
       "      <td>272 Slaves Were Sold to Save Georgetown. What ...</td>\n",
       "      <td>WASHINGTON  —   The human cargo was loaded on ...</td>\n",
       "      <td>2016-12-15</td>\n",
       "      <td>12</td>\n",
       "      <td>NaN</td>\n",
       "      <td>0</td>\n",
       "    </tr>\n",
       "  </tbody>\n",
       "</table>\n",
       "</div>"
      ],
      "text/plain": [
       "         id                               author  \\\n",
       "0     17283                           Carl Hulse   \n",
       "8     17291                     Katherine Rosman   \n",
       "9     17292                          Andy Newman   \n",
       "2547  20127  Michael S. Schmidt and Eric Schmitt   \n",
       "2551  20131                     Rachel L. Swarns   \n",
       "\n",
       "                                                  title  \\\n",
       "0     House Republicans Fret About Winning Their Hea...   \n",
       "8     First, a Mixtape. Then a Romance. - The New Yo...   \n",
       "9     Calling on Angels While Enduring the Trials of...   \n",
       "2547  U.S. Plans to Step Up Military Campaign Agains...   \n",
       "2551  272 Slaves Were Sold to Save Georgetown. What ...   \n",
       "\n",
       "                                                   text        date  month  \\\n",
       "0     WASHINGTON  —   Congressional Republicans have...  2016-12-31     12   \n",
       "8     Just how   is Hillary Kerr, the    founder of ...  2016-12-31     12   \n",
       "9     Angels are everywhere in the Muñiz family’s ap...  2016-12-31     12   \n",
       "2547  ABU DHABI, United Arab Emirates  —   The Obama...  2016-12-21     12   \n",
       "2551  WASHINGTON  —   The human cargo was loaded on ...  2016-12-15     12   \n",
       "\n",
       "      url fake  \n",
       "0     NaN    0  \n",
       "8     NaN    0  \n",
       "9     NaN    0  \n",
       "2547  NaN    0  \n",
       "2551  NaN    0  "
      ]
     },
     "execution_count": 60,
     "metadata": {},
     "output_type": "execute_result"
    }
   ],
   "source": [
    "all_news.head(5)"
   ]
  },
  {
   "cell_type": "markdown",
   "metadata": {},
   "source": [
    "## Dataframe dimensions and data types"
   ]
  },
  {
   "cell_type": "code",
   "execution_count": 61,
   "metadata": {},
   "outputs": [
    {
     "data": {
      "text/plain": [
       "(26612, 8)"
      ]
     },
     "execution_count": 61,
     "metadata": {},
     "output_type": "execute_result"
    }
   ],
   "source": [
    "all_news.shape"
   ]
  },
  {
   "cell_type": "code",
   "execution_count": 62,
   "metadata": {},
   "outputs": [
    {
     "data": {
      "text/plain": [
       "id          object\n",
       "author      object\n",
       "title       object\n",
       "text        object\n",
       "date        object\n",
       "month        int64\n",
       "url         object\n",
       "fake      category\n",
       "dtype: object"
      ]
     },
     "execution_count": 62,
     "metadata": {},
     "output_type": "execute_result"
    }
   ],
   "source": [
    "all_news.dtypes"
   ]
  },
  {
   "cell_type": "code",
   "execution_count": 63,
   "metadata": {},
   "outputs": [],
   "source": [
    "# Converting month variable to \"category\" (factor)\n",
    "all_news['month'] = all_news.month.astype('category')"
   ]
  },
  {
   "cell_type": "code",
   "execution_count": 64,
   "metadata": {},
   "outputs": [
    {
     "data": {
      "text/plain": [
       "id          object\n",
       "author      object\n",
       "title       object\n",
       "text        object\n",
       "date        object\n",
       "month     category\n",
       "url         object\n",
       "fake      category\n",
       "dtype: object"
      ]
     },
     "execution_count": 64,
     "metadata": {},
     "output_type": "execute_result"
    }
   ],
   "source": [
    "all_news.dtypes"
   ]
  },
  {
   "cell_type": "markdown",
   "metadata": {},
   "source": [
    "## Summary statistics"
   ]
  },
  {
   "cell_type": "code",
   "execution_count": 65,
   "metadata": {},
   "outputs": [
    {
     "data": {
      "text/html": [
       "<div>\n",
       "<style scoped>\n",
       "    .dataframe tbody tr th:only-of-type {\n",
       "        vertical-align: middle;\n",
       "    }\n",
       "\n",
       "    .dataframe tbody tr th {\n",
       "        vertical-align: top;\n",
       "    }\n",
       "\n",
       "    .dataframe thead th {\n",
       "        text-align: right;\n",
       "    }\n",
       "</style>\n",
       "<table border=\"1\" class=\"dataframe\">\n",
       "  <thead>\n",
       "    <tr style=\"text-align: right;\">\n",
       "      <th></th>\n",
       "      <th>id</th>\n",
       "      <th>author</th>\n",
       "      <th>title</th>\n",
       "      <th>text</th>\n",
       "      <th>date</th>\n",
       "      <th>month</th>\n",
       "      <th>url</th>\n",
       "      <th>fake</th>\n",
       "    </tr>\n",
       "  </thead>\n",
       "  <tbody>\n",
       "    <tr>\n",
       "      <th>count</th>\n",
       "      <td>26612</td>\n",
       "      <td>23136</td>\n",
       "      <td>26612</td>\n",
       "      <td>26612</td>\n",
       "      <td>26612</td>\n",
       "      <td>26612</td>\n",
       "      <td>22001</td>\n",
       "      <td>26612</td>\n",
       "    </tr>\n",
       "    <tr>\n",
       "      <th>unique</th>\n",
       "      <td>26612</td>\n",
       "      <td>6298</td>\n",
       "      <td>25635</td>\n",
       "      <td>26141</td>\n",
       "      <td>10298</td>\n",
       "      <td>3</td>\n",
       "      <td>11311</td>\n",
       "      <td>2</td>\n",
       "    </tr>\n",
       "    <tr>\n",
       "      <th>top</th>\n",
       "      <td>88cf2e024d80f3a92a7bbac9797299209b5c978f</td>\n",
       "      <td>admin</td>\n",
       "      <td>Caught On Tape: ISIS Destroys Abrams Tank With...</td>\n",
       "      <td></td>\n",
       "      <td>2016-11-09</td>\n",
       "      <td>11</td>\n",
       "      <td>abeldanger.net</td>\n",
       "      <td>0</td>\n",
       "    </tr>\n",
       "    <tr>\n",
       "      <th>freq</th>\n",
       "      <td>1</td>\n",
       "      <td>199</td>\n",
       "      <td>43</td>\n",
       "      <td>104</td>\n",
       "      <td>252</td>\n",
       "      <td>10816</td>\n",
       "      <td>100</td>\n",
       "      <td>15712</td>\n",
       "    </tr>\n",
       "  </tbody>\n",
       "</table>\n",
       "</div>"
      ],
      "text/plain": [
       "                                              id author  \\\n",
       "count                                      26612  23136   \n",
       "unique                                     26612   6298   \n",
       "top     88cf2e024d80f3a92a7bbac9797299209b5c978f  admin   \n",
       "freq                                           1    199   \n",
       "\n",
       "                                                    title   text        date  \\\n",
       "count                                               26612  26612       26612   \n",
       "unique                                              25635  26141       10298   \n",
       "top     Caught On Tape: ISIS Destroys Abrams Tank With...         2016-11-09   \n",
       "freq                                                   43    104         252   \n",
       "\n",
       "        month             url   fake  \n",
       "count   26612           22001  26612  \n",
       "unique      3           11311      2  \n",
       "top        11  abeldanger.net      0  \n",
       "freq    10816             100  15712  "
      ]
     },
     "execution_count": 65,
     "metadata": {},
     "output_type": "execute_result"
    }
   ],
   "source": [
    "all_news.describe()"
   ]
  },
  {
   "cell_type": "markdown",
   "metadata": {},
   "source": [
    "### Counts categorical data"
   ]
  },
  {
   "cell_type": "code",
   "execution_count": 66,
   "metadata": {},
   "outputs": [
    {
     "data": {
      "text/plain": [
       "0    15712\n",
       "1    10900\n",
       "Name: fake, dtype: int64"
      ]
     },
     "execution_count": 66,
     "metadata": {},
     "output_type": "execute_result"
    }
   ],
   "source": [
    "all_news['fake'].value_counts()"
   ]
  },
  {
   "cell_type": "code",
   "execution_count": 67,
   "metadata": {},
   "outputs": [
    {
     "data": {
      "text/plain": [
       "<matplotlib.axes._subplots.AxesSubplot at 0x1a20bcb518>"
      ]
     },
     "execution_count": 67,
     "metadata": {},
     "output_type": "execute_result"
    },
    {
     "data": {
      "image/png": "[encoded data removed]",
      "text/plain": [
       "<Figure size 432x288 with 1 Axes>"
      ]
     },
     "metadata": {},
     "output_type": "display_data"
    }
   ],
   "source": [
    "all_news['fake'].value_counts().plot(kind='bar')"
   ]
  },
  {
   "cell_type": "code",
   "execution_count": 68,
   "metadata": {},
   "outputs": [
    {
     "data": {
      "text/plain": [
       "11    10816\n",
       "10    10483\n",
       "12     5313\n",
       "Name: month, dtype: int64"
      ]
     },
     "execution_count": 68,
     "metadata": {},
     "output_type": "execute_result"
    }
   ],
   "source": [
    "all_news['month'].value_counts()"
   ]
  },
  {
   "cell_type": "code",
   "execution_count": 69,
   "metadata": {},
   "outputs": [
    {
     "data": {
      "text/plain": [
       "<matplotlib.axes._subplots.AxesSubplot at 0x1134917f0>"
      ]
     },
     "execution_count": 69,
     "metadata": {},
     "output_type": "execute_result"
    },
    {
     "data": {
      "image/png": "[encoded data removed]",
      "text/plain": [
       "<Figure size 432x288 with 1 Axes>"
      ]
     },
     "metadata": {},
     "output_type": "display_data"
    }
   ],
   "source": [
    "all_news['month'].value_counts().plot(kind='bar')"
   ]
  },
  {
   "cell_type": "markdown",
   "metadata": {},
   "source": [
    "### Count missing values"
   ]
  },
  {
   "cell_type": "code",
   "execution_count": 70,
   "metadata": {},
   "outputs": [
    {
     "data": {
      "text/plain": [
       "id           0\n",
       "author    3476\n",
       "title        0\n",
       "text         0\n",
       "date         0\n",
       "month        0\n",
       "url       4611\n",
       "fake         0\n",
       "dtype: int64"
      ]
     },
     "execution_count": 70,
     "metadata": {},
     "output_type": "execute_result"
    }
   ],
   "source": [
    "all_news.isnull().sum()\n",
    "# Author and url have missing values, but they are not relevant features for our analysis  \n",
    "# No missing values in title and text"
   ]
  },
  {
   "cell_type": "markdown",
   "metadata": {},
   "source": [
    "### Merging title and text for text exploratory analysis"
   ]
  },
  {
   "cell_type": "code",
   "execution_count": 71,
   "metadata": {},
   "outputs": [],
   "source": [
    "all_text = all_news.title.str.cat(all_news.text, sep=' ')"
   ]
  },
  {
   "cell_type": "code",
   "execution_count": 72,
   "metadata": {},
   "outputs": [
    {
     "data": {
      "text/plain": [
       "0       House Republicans Fret About Winning Their Hea...\n",
       "8       First, a Mixtape. Then a Romance. - The New Yo...\n",
       "9       Calling on Angels While Enduring the Trials of...\n",
       "2547    U.S. Plans to Step Up Military Campaign Agains...\n",
       "2551    272 Slaves Were Sold to Save Georgetown. What ...\n",
       "Name: title, dtype: object"
      ]
     },
     "execution_count": 72,
     "metadata": {},
     "output_type": "execute_result"
    }
   ],
   "source": [
    "all_text.head()"
   ]
  },
  {
   "cell_type": "markdown",
   "metadata": {},
   "source": [
    "### Count missing values in the text data"
   ]
  },
  {
   "cell_type": "code",
   "execution_count": 73,
   "metadata": {},
   "outputs": [],
   "source": [
    "if all_text is None:\n",
    "    print(all_text)\n",
    "# No output - there are no missing values in the text for mining"
   ]
  },
  {
   "cell_type": "code",
   "execution_count": 74,
   "metadata": {},
   "outputs": [],
   "source": [
    "# Fill any blank fields\n",
    "all_text.fillna(\"\", inplace=True)"
   ]
  },
  {
   "cell_type": "code",
   "execution_count": 75,
   "metadata": {},
   "outputs": [],
   "source": [
    "# Tokenization\n",
    "words = nltk.word_tokenize(\" \".join(all_text.tolist()))"
   ]
  },
  {
   "cell_type": "code",
   "execution_count": 76,
   "metadata": {},
   "outputs": [],
   "source": [
    "words_df = pd.DataFrame(words)"
   ]
  },
  {
   "cell_type": "code",
   "execution_count": 77,
   "metadata": {},
   "outputs": [
    {
     "data": {
      "text/html": [
       "<div>\n",
       "<style scoped>\n",
       "    .dataframe tbody tr th:only-of-type {\n",
       "        vertical-align: middle;\n",
       "    }\n",
       "\n",
       "    .dataframe tbody tr th {\n",
       "        vertical-align: top;\n",
       "    }\n",
       "\n",
       "    .dataframe thead th {\n",
       "        text-align: right;\n",
       "    }\n",
       "</style>\n",
       "<table border=\"1\" class=\"dataframe\">\n",
       "  <thead>\n",
       "    <tr style=\"text-align: right;\">\n",
       "      <th></th>\n",
       "      <th>0</th>\n",
       "    </tr>\n",
       "  </thead>\n",
       "  <tbody>\n",
       "    <tr>\n",
       "      <th>0</th>\n",
       "      <td>House</td>\n",
       "    </tr>\n",
       "    <tr>\n",
       "      <th>1</th>\n",
       "      <td>Republicans</td>\n",
       "    </tr>\n",
       "    <tr>\n",
       "      <th>2</th>\n",
       "      <td>Fret</td>\n",
       "    </tr>\n",
       "    <tr>\n",
       "      <th>3</th>\n",
       "      <td>About</td>\n",
       "    </tr>\n",
       "    <tr>\n",
       "      <th>4</th>\n",
       "      <td>Winning</td>\n",
       "    </tr>\n",
       "  </tbody>\n",
       "</table>\n",
       "</div>"
      ],
      "text/plain": [
       "             0\n",
       "0        House\n",
       "1  Republicans\n",
       "2         Fret\n",
       "3        About\n",
       "4      Winning"
      ]
     },
     "execution_count": 77,
     "metadata": {},
     "output_type": "execute_result"
    }
   ],
   "source": [
    "words_df.head()"
   ]
  },
  {
   "cell_type": "code",
   "execution_count": 78,
   "metadata": {},
   "outputs": [],
   "source": [
    "# Cleaning/stopword removal\n",
    "from nltk.corpus import stopwords\n",
    "import string\n",
    "\n",
    "stop = stopwords.words('english') \n",
    "cleanwords = [i for i in words if i not in stop and i.isalpha() and len(i) > 2]"
   ]
  },
  {
   "cell_type": "markdown",
   "metadata": {},
   "source": [
    "### Wordcloud"
   ]
  },
  {
   "cell_type": "code",
   "execution_count": 79,
   "metadata": {},
   "outputs": [],
   "source": [
    "from wordcloud import WordCloud, STOPWORDS"
   ]
  },
  {
   "cell_type": "code",
   "execution_count": 81,
   "metadata": {},
   "outputs": [
    {
     "data": {
      "image/png": "[encoded data removed]",
      "text/plain": [
       "<Figure size 1008x504 with 1 Axes>"
      ]
     },
     "metadata": {},
     "output_type": "display_data"
    }
   ],
   "source": [
    "# creating wordcloud (i.e., visual representation of text data) \n",
    "# the wordcloud displays a list of words, the importance of each beeing shown with font size or color\n",
    "\n",
    "wordcloud2 = WordCloud(\n",
    "                          stopwords=STOPWORDS,\n",
    "                          background_color='white',\n",
    "                          width=1500,\n",
    "                          height=1300\n",
    "                         ).generate(\" \".join(cleanwords))\n",
    "\n",
    "plt.figure( figsize=(14,7))\n",
    "plt.imshow(wordcloud2)\n",
    "plt.axis('off')\n",
    "plt.show()"
   ]
  },
  {
   "cell_type": "code",
   "execution_count": 82,
   "metadata": {},
   "outputs": [],
   "source": [
    "# Bigram analysis\n",
    "# Bigrams (pairs of consecutive written units like letters, syllables, or words)\n",
    "\n",
    "bigrams = nltk.bigrams(cleanwords)"
   ]
  },
  {
   "cell_type": "code",
   "execution_count": 83,
   "metadata": {},
   "outputs": [
    {
     "name": "stdout",
     "output_type": "stream",
     "text": [
      "[(('Donald', 'Trump'), 18818), (('Hillary', 'Clinton'), 14170), (('United', 'States'), 12861), (('New', 'York'), 11430), (('White', 'House'), 6832), (('York', 'Times'), 4467), (('The', 'New'), 3555), (('years', 'ago'), 3327), (('President', 'Obama'), 3121), (('Washington', 'Post'), 3085)]\n"
     ]
    }
   ],
   "source": [
    "# most common bigrams\n",
    "from collections import Counter\n",
    "\n",
    "counter = Counter(bigrams)\n",
    "print(counter.most_common(10))"
   ]
  },
  {
   "cell_type": "code",
   "execution_count": 84,
   "metadata": {},
   "outputs": [
    {
     "data": {
      "image/png": "[encoded data removed]",
      "text/plain": [
       "<Figure size 432x288 with 1 Axes>"
      ]
     },
     "metadata": {},
     "output_type": "display_data"
    }
   ],
   "source": [
    "num_to_show = 30\n",
    "\n",
    "labels = [\" \".join(e[0]) for e in counter.most_common(num_to_show)]\n",
    "values = [e[1] for e in counter.most_common(num_to_show)]\n",
    "\n",
    "indexes = np.arange(len(labels))\n",
    "width = 1\n",
    "\n",
    "#plt.bar(indexes, values, width)\n",
    "#plt.xticks(indexes + width * 0.5, labels, rotation=90)\n",
    "\n",
    "plt.barh(indexes, values, width)\n",
    "plt.yticks(indexes + width * 0.2, labels)\n",
    "plt.show()"
   ]
  }
 ],
 "metadata": {
  "kernelspec": {
   "display_name": "Python 3",
   "language": "python",
   "name": "python3"
  },
  "language_info": {
   "codemirror_mode": {
    "name": "ipython",
    "version": 3
   },
   "file_extension": ".py",
   "mimetype": "text/x-python",
   "name": "python",
   "nbconvert_exporter": "python",
   "pygments_lexer": "ipython3",
   "version": "3.6.6"
  }
 },
 "nbformat": 4,
 "nbformat_minor": 1
}
